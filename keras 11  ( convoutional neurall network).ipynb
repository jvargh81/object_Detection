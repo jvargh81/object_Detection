{
 "cells": [
  {
   "cell_type": "code",
   "execution_count": 15,
   "metadata": {},
   "outputs": [],
   "source": [
    "import tensorflow as tf\n",
    "from keras.models import Sequential\n",
    "from keras.layers.core import Dense, Dropout, Flatten\n",
    "from keras.layers import Conv2D\n",
    "from keras.datasets import mnist\n",
    "from keras.utils.np_utils import to_categorical\n",
    "import numpy as np\n",
    "import matplotlib.pyplot as plt\n",
    "%matplotlib inline"
   ]
  },
  {
   "cell_type": "code",
   "execution_count": 16,
   "metadata": {},
   "outputs": [],
   "source": [
    "(x_train,y_train),(x_test,y_test) = mnist.load_data()"
   ]
  },
  {
   "cell_type": "code",
   "execution_count": 17,
   "metadata": {},
   "outputs": [],
   "source": [
    "img_rows, img_cols = x_train[0].shape[0],x_train[0].shape[1]\n",
    "x_train = x_train.reshape(x_train.shape[0],img_rows,img_cols,1)\n",
    "x_test = x_test.reshape(x_test.shape[0],img_rows,img_cols,1)\n",
    "input_shape = (img_rows,img_cols,1)"
   ]
  },
  {
   "cell_type": "code",
   "execution_count": 18,
   "metadata": {},
   "outputs": [],
   "source": [
    "x_train = x_train.astype('float32')/255\n",
    "x_test = x_test.astype('float32')/255\n",
    "\n",
    "n_classes = 10\n",
    "y_train = to_categorical(y_train,n_classes)\n",
    "y_test = to_categorical(y_test,n_classes)"
   ]
  },
  {
   "cell_type": "code",
   "execution_count": 19,
   "metadata": {},
   "outputs": [],
   "source": [
    "model = Sequential()\n",
    "model.add(Conv2D(32,kernel_size=(3,3),activation='relu',input_shape=input_shape))\n",
    "model.add(Conv2D(64,kernel_size=(3,3),activation='relu'))\n",
    "model.add(Conv2D(128,kernel_size=(3,3),activation='relu'))\n",
    "model.add(Dropout(0.5))\n",
    "model.add(Flatten())\n",
    "model.add(Dense(128,activation='relu'))\n",
    "model.add(Dropout(0.5))\n",
    "model.add(Dense(n_classes,activation='softmax'))"
   ]
  },
  {
   "cell_type": "code",
   "execution_count": 20,
   "metadata": {},
   "outputs": [],
   "source": [
    "model.compile(loss='categorical_crossentropy',optimizer='adam',metrics=['accuracy'])"
   ]
  },
  {
   "cell_type": "code",
   "execution_count": 21,
   "metadata": {},
   "outputs": [],
   "source": [
    "# hyperparameters\n",
    "batch_size = 128\n",
    "n_epoch = 20"
   ]
  },
  {
   "cell_type": "code",
   "execution_count": 22,
   "metadata": {},
   "outputs": [
    {
     "name": "stdout",
     "output_type": "stream",
     "text": [
      "Epoch 1/20\n",
      "60000/60000 [==============================] - 325s 5ms/step - loss: 0.1861 - acc: 0.9435\n",
      "Epoch 2/20\n",
      "60000/60000 [==============================] - 322s 5ms/step - loss: 0.0708 - acc: 0.9789\n",
      "Epoch 3/20\n",
      "60000/60000 [==============================] - 324s 5ms/step - loss: 0.0507 - acc: 0.9847\n",
      "Epoch 4/20\n",
      "60000/60000 [==============================] - 323s 5ms/step - loss: 0.0401 - acc: 0.9878\n",
      "Epoch 5/20\n",
      "60000/60000 [==============================] - 322s 5ms/step - loss: 0.0331 - acc: 0.9897\n",
      "Epoch 6/20\n",
      "60000/60000 [==============================] - 322s 5ms/step - loss: 0.0281 - acc: 0.9911\n",
      "Epoch 7/20\n",
      "60000/60000 [==============================] - 323s 5ms/step - loss: 0.0243 - acc: 0.9918\n",
      "Epoch 8/20\n",
      "60000/60000 [==============================] - 323s 5ms/step - loss: 0.0221 - acc: 0.9930\n",
      "Epoch 9/20\n",
      "60000/60000 [==============================] - 322s 5ms/step - loss: 0.0199 - acc: 0.9935\n",
      "Epoch 10/20\n",
      "60000/60000 [==============================] - 322s 5ms/step - loss: 0.0163 - acc: 0.9948\n",
      "Epoch 11/20\n",
      "60000/60000 [==============================] - 323s 5ms/step - loss: 0.0177 - acc: 0.9942\n",
      "Epoch 12/20\n",
      "60000/60000 [==============================] - 323s 5ms/step - loss: 0.0160 - acc: 0.9949\n",
      "Epoch 13/20\n",
      "60000/60000 [==============================] - 323s 5ms/step - loss: 0.0142 - acc: 0.9954\n",
      "Epoch 14/20\n",
      "60000/60000 [==============================] - 323s 5ms/step - loss: 0.0138 - acc: 0.9953\n",
      "Epoch 15/20\n",
      "60000/60000 [==============================] - 323s 5ms/step - loss: 0.0109 - acc: 0.9966\n",
      "Epoch 16/20\n",
      "60000/60000 [==============================] - 323s 5ms/step - loss: 0.0115 - acc: 0.9962\n",
      "Epoch 17/20\n",
      "60000/60000 [==============================] - 323s 5ms/step - loss: 0.0098 - acc: 0.9968\n",
      "Epoch 18/20\n",
      "60000/60000 [==============================] - 323s 5ms/step - loss: 0.0109 - acc: 0.9964\n",
      "Epoch 19/20\n",
      "60000/60000 [==============================] - 323s 5ms/step - loss: 0.0115 - acc: 0.9963\n",
      "Epoch 20/20\n",
      "60000/60000 [==============================] - 324s 5ms/step - loss: 0.0092 - acc: 0.9972\n"
     ]
    },
    {
     "data": {
      "text/plain": [
       "<keras.callbacks.History at 0x7fbf33a529b0>"
      ]
     },
     "execution_count": 22,
     "metadata": {},
     "output_type": "execute_result"
    }
   ],
   "source": [
    "model.fit(x_train,y_train, batch_size=batch_size,epochs=n_epoch)"
   ]
  },
  {
   "cell_type": "code",
   "execution_count": 23,
   "metadata": {},
   "outputs": [
    {
     "name": "stdout",
     "output_type": "stream",
     "text": [
      "10000/10000 [==============================] - 16s 2ms/step\n"
     ]
    }
   ],
   "source": [
    "# testing the accuracy score\n",
    "score = model.evaluate(x_test,y_test,verbose=1)"
   ]
  },
  {
   "cell_type": "code",
   "execution_count": 24,
   "metadata": {},
   "outputs": [
    {
     "data": {
      "text/plain": [
       "[0.03360080487360265, 0.9923]"
      ]
     },
     "execution_count": 24,
     "metadata": {},
     "output_type": "execute_result"
    }
   ],
   "source": [
    "score"
   ]
  },
  {
   "cell_type": "code",
   "execution_count": 26,
   "metadata": {},
   "outputs": [
    {
     "data": {
      "image/png": "[encoded data removed]",
      "text/plain": [
       "<Figure size 1080x1080 with 10 Axes>"
      ]
     },
     "metadata": {},
     "output_type": "display_data"
    }
   ],
   "source": [
    "preds = model.predict(x_test)\n",
    "n = 10\n",
    "plt.figure(figsize=(15,15))\n",
    "\n",
    "for i in range(n):\n",
    "    plt.subplot(1,n,i+1)\n",
    "    plt.imshow(x_test[i,:,:,0], cmap='gray')\n",
    "    plt.title('label:{}\\nPredicted:{}'.format(np.argmax(y_test[i]),np.argmax(preds[i])))\n",
    "    plt.axis('off')\n",
    "\n",
    "plt.show()"
   ]
  },
  {
   "cell_type": "code",
   "execution_count": null,
   "metadata": {},
   "outputs": [],
   "source": []
  }
 ],
 "metadata": {
  "kernelspec": {
   "display_name": "Python 3",
   "language": "python",
   "name": "python3"
  },
  "language_info": {
   "codemirror_mode": {
    "name": "ipython",
    "version": 3
   },
   "file_extension": ".py",
   "mimetype": "text/x-python",
   "name": "python",
   "nbconvert_exporter": "python",
   "pygments_lexer": "ipython3",
   "version": "3.6.5"
  }
 },
 "nbformat": 4,
 "nbformat_minor": 2
}
