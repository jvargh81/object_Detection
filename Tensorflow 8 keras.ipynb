{
 "cells": [
  {
   "cell_type": "code",
   "execution_count": 12,
   "metadata": {},
   "outputs": [],
   "source": [
    "import tensorflow as tf\n",
    "from keras.models import Sequential\n",
    "from keras.layers import Dense\n",
    "from keras.utils import to_categorical\n",
    "from keras.callbacks import Callback\n",
    "from keras.datasets import mnist\n",
    "from keras import regularizers\n",
    "from keras.optimizers import SGD\n",
    "from keras import utils\n",
    "import numpy as np\n",
    "import keras\n",
    "\n",
    "import matplotlib.pyplot as plt\n",
    "%matplotlib inline"
   ]
  },
  {
   "cell_type": "code",
   "execution_count": 13,
   "metadata": {},
   "outputs": [],
   "source": [
    "batch_size = 100\n",
    "n_inputs = 784\n",
    "n_classes = 10\n",
    "n_epochs = 50"
   ]
  },
  {
   "cell_type": "code",
   "execution_count": 14,
   "metadata": {},
   "outputs": [],
   "source": [
    "(x_train,y_train),(x_test,y_test) = mnist.load_data()"
   ]
  },
  {
   "cell_type": "code",
   "execution_count": 15,
   "metadata": {},
   "outputs": [],
   "source": [
    "x_train = x_train.reshape(60000,n_inputs)\n",
    "x_test = x_test.reshape(10000,n_inputs)\n",
    "x_train = x_train.astype(np.float32)/255\n",
    "x_test = x_test.astype(np.float32)/255"
   ]
  },
  {
   "cell_type": "code",
   "execution_count": 16,
   "metadata": {},
   "outputs": [],
   "source": [
    "y_train = utils.to_categorical(y_train,n_classes)\n",
    "y_test = utils.to_categorical(y_test,n_classes)"
   ]
  },
  {
   "cell_type": "code",
   "execution_count": 17,
   "metadata": {},
   "outputs": [],
   "source": [
    "model = Sequential()\n",
    "model.add(Dense(units=120,activation='sigmoid',input_shape=(n_inputs,), kernel_regularizer=regularizers.l2(0.01)))"
   ]
  },
  {
   "cell_type": "code",
   "execution_count": 18,
   "metadata": {},
   "outputs": [],
   "source": [
    "model.add(Dense(units=120,activation='relu',kernel_regularizer=regularizers.l2(0.01)))"
   ]
  },
  {
   "cell_type": "code",
   "execution_count": 19,
   "metadata": {},
   "outputs": [],
   "source": [
    "model.add(Dense(units=120,activation='relu',kernel_regularizer=regularizers.l2(0.01)))"
   ]
  },
  {
   "cell_type": "code",
   "execution_count": 20,
   "metadata": {},
   "outputs": [
    {
     "name": "stdout",
     "output_type": "stream",
     "text": [
      "_________________________________________________________________\n",
      "Layer (type)                 Output Shape              Param #   \n",
      "=================================================================\n",
      "dense_8 (Dense)              (None, 120)               94200     \n",
      "_________________________________________________________________\n",
      "dense_9 (Dense)              (None, 120)               14520     \n",
      "_________________________________________________________________\n",
      "dense_10 (Dense)             (None, 120)               14520     \n",
      "_________________________________________________________________\n",
      "dense_11 (Dense)             (None, 10)                1210      \n",
      "=================================================================\n",
      "Total params: 124,450\n",
      "Trainable params: 124,450\n",
      "Non-trainable params: 0\n",
      "_________________________________________________________________\n"
     ]
    }
   ],
   "source": [
    "model.add(Dense(units=n_classes,activation='softmax'))\n",
    "model.summary()"
   ]
  },
  {
   "cell_type": "code",
   "execution_count": 21,
   "metadata": {},
   "outputs": [
    {
     "name": "stdout",
     "output_type": "stream",
     "text": [
      "Epoch 1/50\n",
      "60000/60000 [==============================] - 7s 113us/step - loss: 6.1203 - acc: 0.3958\n",
      "Epoch 2/50\n",
      "60000/60000 [==============================] - 6s 104us/step - loss: 4.7251 - acc: 0.6499\n",
      "Epoch 3/50\n",
      "60000/60000 [==============================] - 7s 123us/step - loss: 3.6348 - acc: 0.7558\n",
      "Epoch 4/50\n",
      "60000/60000 [==============================] - 8s 128us/step - loss: 2.9813 - acc: 0.8067\n",
      "Epoch 5/50\n",
      "60000/60000 [==============================] - 6s 104us/step - loss: 2.5015 - acc: 0.8404\n",
      "Epoch 6/50\n",
      "60000/60000 [==============================] - 6s 102us/step - loss: 2.1355 - acc: 0.8584\n",
      "Epoch 7/50\n",
      "60000/60000 [==============================] - 6s 106us/step - loss: 1.8551 - acc: 0.8684\n",
      "Epoch 8/50\n",
      "60000/60000 [==============================] - 6s 106us/step - loss: 1.6378 - acc: 0.8745\n",
      "Epoch 9/50\n",
      "60000/60000 [==============================] - 6s 105us/step - loss: 1.4679 - acc: 0.8790\n",
      "Epoch 10/50\n",
      "60000/60000 [==============================] - 6s 105us/step - loss: 1.3336 - acc: 0.8811\n",
      "Epoch 11/50\n",
      "60000/60000 [==============================] - 6s 104us/step - loss: 1.2265 - acc: 0.8816\n",
      "Epoch 12/50\n",
      "60000/60000 [==============================] - 6s 103us/step - loss: 1.1416 - acc: 0.8833\n",
      "Epoch 13/50\n",
      "60000/60000 [==============================] - 6s 107us/step - loss: 1.0729 - acc: 0.8844\n",
      "Epoch 14/50\n",
      "60000/60000 [==============================] - 6s 106us/step - loss: 1.0182 - acc: 0.8851\n",
      "Epoch 15/50\n",
      "60000/60000 [==============================] - 6s 107us/step - loss: 0.9738 - acc: 0.8866\n",
      "Epoch 16/50\n",
      "60000/60000 [==============================] - 6s 106us/step - loss: 0.9377 - acc: 0.8870\n",
      "Epoch 17/50\n",
      "60000/60000 [==============================] - 6s 107us/step - loss: 0.9083 - acc: 0.8877\n",
      "Epoch 18/50\n",
      "60000/60000 [==============================] - 7s 109us/step - loss: 0.8840 - acc: 0.8874\n",
      "Epoch 19/50\n",
      "60000/60000 [==============================] - 6s 106us/step - loss: 0.8639 - acc: 0.8886\n",
      "Epoch 20/50\n",
      "60000/60000 [==============================] - 6s 108us/step - loss: 0.8472 - acc: 0.8883\n",
      "Epoch 21/50\n",
      "60000/60000 [==============================] - 6s 106us/step - loss: 0.8327 - acc: 0.8896\n",
      "Epoch 22/50\n",
      "60000/60000 [==============================] - 7s 108us/step - loss: 0.8210 - acc: 0.8899\n",
      "Epoch 23/50\n",
      "60000/60000 [==============================] - 7s 109us/step - loss: 0.8114 - acc: 0.8900\n",
      "Epoch 24/50\n",
      "60000/60000 [==============================] - 6s 107us/step - loss: 0.8023 - acc: 0.8902\n",
      "Epoch 25/50\n",
      "60000/60000 [==============================] - 7s 109us/step - loss: 0.7947 - acc: 0.8911\n",
      "Epoch 26/50\n",
      "60000/60000 [==============================] - 7s 109us/step - loss: 0.7876 - acc: 0.8907\n",
      "Epoch 27/50\n",
      "60000/60000 [==============================] - 7s 113us/step - loss: 0.7815 - acc: 0.8910\n",
      "Epoch 28/50\n",
      "60000/60000 [==============================] - 7s 112us/step - loss: 0.7760 - acc: 0.8921\n",
      "Epoch 29/50\n",
      "60000/60000 [==============================] - 7s 113us/step - loss: 0.7715 - acc: 0.8921\n",
      "Epoch 30/50\n",
      "60000/60000 [==============================] - 7s 110us/step - loss: 0.7672 - acc: 0.8918\n",
      "Epoch 31/50\n",
      "60000/60000 [==============================] - 7s 112us/step - loss: 0.7631 - acc: 0.8920\n",
      "Epoch 32/50\n",
      "60000/60000 [==============================] - 6s 108us/step - loss: 0.7591 - acc: 0.8917\n",
      "Epoch 33/50\n",
      "60000/60000 [==============================] - 6s 108us/step - loss: 0.7557 - acc: 0.8928\n",
      "Epoch 34/50\n",
      "60000/60000 [==============================] - 7s 110us/step - loss: 0.7524 - acc: 0.8916\n",
      "Epoch 35/50\n",
      "60000/60000 [==============================] - 7s 109us/step - loss: 0.7491 - acc: 0.8927\n",
      "Epoch 36/50\n",
      "60000/60000 [==============================] - 7s 108us/step - loss: 0.7456 - acc: 0.8928\n",
      "Epoch 37/50\n",
      "60000/60000 [==============================] - 7s 109us/step - loss: 0.7430 - acc: 0.8936\n",
      "Epoch 38/50\n",
      "60000/60000 [==============================] - 7s 112us/step - loss: 0.7416 - acc: 0.8922\n",
      "Epoch 39/50\n",
      "60000/60000 [==============================] - 7s 111us/step - loss: 0.7380 - acc: 0.8928\n",
      "Epoch 40/50\n",
      "60000/60000 [==============================] - 7s 111us/step - loss: 0.7352 - acc: 0.8935\n",
      "Epoch 41/50\n",
      "60000/60000 [==============================] - 7s 111us/step - loss: 0.7332 - acc: 0.8935\n",
      "Epoch 42/50\n",
      "60000/60000 [==============================] - 7s 108us/step - loss: 0.7306 - acc: 0.8934\n",
      "Epoch 43/50\n",
      "60000/60000 [==============================] - 7s 112us/step - loss: 0.7286 - acc: 0.8943\n",
      "Epoch 44/50\n",
      "60000/60000 [==============================] - 7s 110us/step - loss: 0.7264 - acc: 0.8934\n",
      "Epoch 45/50\n",
      "60000/60000 [==============================] - 7s 112us/step - loss: 0.7244 - acc: 0.8932\n",
      "Epoch 46/50\n",
      "60000/60000 [==============================] - 7s 112us/step - loss: 0.7222 - acc: 0.8937\n",
      "Epoch 47/50\n",
      "60000/60000 [==============================] - 7s 112us/step - loss: 0.7200 - acc: 0.8940\n",
      "Epoch 48/50\n",
      "60000/60000 [==============================] - 7s 113us/step - loss: 0.7175 - acc: 0.8943\n",
      "Epoch 49/50\n",
      "60000/60000 [==============================] - 7s 109us/step - loss: 0.7165 - acc: 0.8934\n",
      "Epoch 50/50\n",
      "60000/60000 [==============================] - 7s 117us/step - loss: 0.7141 - acc: 0.8946\n"
     ]
    },
    {
     "data": {
      "text/plain": [
       "<keras.callbacks.History at 0x7fc821713710>"
      ]
     },
     "execution_count": 21,
     "metadata": {},
     "output_type": "execute_result"
    }
   ],
   "source": [
    "model.compile(loss='categorical_crossentropy',optimizer=SGD(),metrics=['accuracy'])\n",
    "model.fit(x_train,y_train,batch_size=batch_size,epochs=n_epochs)"
   ]
  },
  {
   "cell_type": "code",
   "execution_count": 22,
   "metadata": {},
   "outputs": [
    {
     "name": "stdout",
     "output_type": "stream",
     "text": [
      "10000/10000 [==============================] - 1s 99us/step\n"
     ]
    }
   ],
   "source": [
    "scores = model.evaluate(x_test,y_test)"
   ]
  },
  {
   "cell_type": "code",
   "execution_count": 23,
   "metadata": {},
   "outputs": [
    {
     "data": {
      "text/plain": [
       "[0.6964449691772461, 0.8977]"
      ]
     },
     "execution_count": 23,
     "metadata": {},
     "output_type": "execute_result"
    }
   ],
   "source": [
    "scores"
   ]
  },
  {
   "cell_type": "code",
   "execution_count": 24,
   "metadata": {},
   "outputs": [
    {
     "name": "stdout",
     "output_type": "stream",
     "text": [
      "Epoch 1/50\n",
      "60000/60000 [==============================] - 8s 130us/step - loss: 0.7540 - acc: 0.8765\n",
      "Epoch 2/50\n",
      "60000/60000 [==============================] - 7s 114us/step - loss: 0.7303 - acc: 0.8796\n",
      "Epoch 3/50\n",
      "60000/60000 [==============================] - 7s 116us/step - loss: 0.7126 - acc: 0.8801\n",
      "Epoch 4/50\n",
      "60000/60000 [==============================] - 7s 115us/step - loss: 0.6967 - acc: 0.8808\n",
      "Epoch 5/50\n",
      "60000/60000 [==============================] - 7s 114us/step - loss: 0.6811 - acc: 0.8831\n",
      "Epoch 6/50\n",
      "60000/60000 [==============================] - 7s 114us/step - loss: 0.6678 - acc: 0.8844\n",
      "Epoch 7/50\n",
      "60000/60000 [==============================] - 7s 121us/step - loss: 0.6600 - acc: 0.8850\n",
      "Epoch 8/50\n",
      "60000/60000 [==============================] - 7s 117us/step - loss: 0.6507 - acc: 0.8865\n",
      "Epoch 9/50\n",
      "60000/60000 [==============================] - 7s 116us/step - loss: 0.6380 - acc: 0.8887\n",
      "Epoch 10/50\n",
      "60000/60000 [==============================] - 7s 117us/step - loss: 0.6302 - acc: 0.8893\n",
      "Epoch 11/50\n",
      "60000/60000 [==============================] - 7s 120us/step - loss: 0.6224 - acc: 0.8883\n",
      "Epoch 12/50\n",
      "60000/60000 [==============================] - 8s 127us/step - loss: 0.6181 - acc: 0.8899\n",
      "Epoch 13/50\n",
      "60000/60000 [==============================] - 7s 122us/step - loss: 0.6105 - acc: 0.8908\n",
      "Epoch 14/50\n",
      "60000/60000 [==============================] - 7s 119us/step - loss: 0.6020 - acc: 0.8931\n",
      "Epoch 15/50\n",
      "60000/60000 [==============================] - 7s 120us/step - loss: 0.5921 - acc: 0.8942\n",
      "Epoch 16/50\n",
      "60000/60000 [==============================] - 7s 121us/step - loss: 0.5886 - acc: 0.8936\n",
      "Epoch 17/50\n",
      "60000/60000 [==============================] - 7s 119us/step - loss: 0.5802 - acc: 0.8952\n",
      "Epoch 18/50\n",
      "60000/60000 [==============================] - 7s 121us/step - loss: 0.5801 - acc: 0.8954\n",
      "Epoch 19/50\n",
      "60000/60000 [==============================] - 7s 121us/step - loss: 0.5751 - acc: 0.8956\n",
      "Epoch 20/50\n",
      "60000/60000 [==============================] - 7s 121us/step - loss: 0.5662 - acc: 0.8985\n",
      "Epoch 21/50\n",
      "60000/60000 [==============================] - 7s 122us/step - loss: 0.5637 - acc: 0.8976\n",
      "Epoch 22/50\n",
      "60000/60000 [==============================] - 7s 121us/step - loss: 0.5573 - acc: 0.8987\n",
      "Epoch 23/50\n",
      "60000/60000 [==============================] - 8s 128us/step - loss: 0.5552 - acc: 0.8992\n",
      "Epoch 24/50\n",
      "60000/60000 [==============================] - 7s 124us/step - loss: 0.5517 - acc: 0.8995\n",
      "Epoch 25/50\n",
      "60000/60000 [==============================] - 7s 125us/step - loss: 0.5496 - acc: 0.8997\n",
      "Epoch 26/50\n",
      "60000/60000 [==============================] - 8s 127us/step - loss: 0.5457 - acc: 0.8997\n",
      "Epoch 27/50\n",
      "60000/60000 [==============================] - 8s 129us/step - loss: 0.5349 - acc: 0.9048\n",
      "Epoch 28/50\n",
      "60000/60000 [==============================] - 8s 125us/step - loss: 0.5316 - acc: 0.9037\n",
      "Epoch 29/50\n",
      "60000/60000 [==============================] - 8s 125us/step - loss: 0.5287 - acc: 0.9039\n",
      "Epoch 30/50\n",
      "60000/60000 [==============================] - 8s 128us/step - loss: 0.5251 - acc: 0.9056\n",
      "Epoch 31/50\n",
      "60000/60000 [==============================] - 8s 125us/step - loss: 0.5218 - acc: 0.9067\n",
      "Epoch 32/50\n",
      "60000/60000 [==============================] - 8s 128us/step - loss: 0.5221 - acc: 0.9070\n",
      "Epoch 33/50\n",
      "60000/60000 [==============================] - 8s 134us/step - loss: 0.5135 - acc: 0.9099\n",
      "Epoch 34/50\n",
      "60000/60000 [==============================] - 8s 127us/step - loss: 0.5095 - acc: 0.9108\n",
      "Epoch 35/50\n",
      "60000/60000 [==============================] - 8s 130us/step - loss: 0.5057 - acc: 0.9118\n",
      "Epoch 36/50\n",
      "60000/60000 [==============================] - 8s 140us/step - loss: 0.5001 - acc: 0.9129\n",
      "Epoch 37/50\n",
      "60000/60000 [==============================] - 9s 156us/step - loss: 0.5000 - acc: 0.9141\n",
      "Epoch 38/50\n",
      "60000/60000 [==============================] - 8s 141us/step - loss: 0.4929 - acc: 0.9146\n",
      "Epoch 39/50\n",
      "60000/60000 [==============================] - 8s 130us/step - loss: 0.4875 - acc: 0.9167\n",
      "Epoch 40/50\n",
      "60000/60000 [==============================] - 8s 127us/step - loss: 0.4868 - acc: 0.9169\n",
      "Epoch 41/50\n",
      "60000/60000 [==============================] - 8s 128us/step - loss: 0.4820 - acc: 0.9204\n",
      "Epoch 42/50\n",
      "60000/60000 [==============================] - 8s 129us/step - loss: 0.4746 - acc: 0.9210\n",
      "Epoch 43/50\n",
      "60000/60000 [==============================] - 8s 129us/step - loss: 0.4759 - acc: 0.9197\n",
      "Epoch 44/50\n",
      "60000/60000 [==============================] - 8s 136us/step - loss: 0.4716 - acc: 0.9214\n",
      "Epoch 45/50\n",
      "60000/60000 [==============================] - 8s 134us/step - loss: 0.4677 - acc: 0.9236\n",
      "Epoch 46/50\n",
      "60000/60000 [==============================] - 8s 139us/step - loss: 0.4671 - acc: 0.9223\n",
      "Epoch 47/50\n",
      "60000/60000 [==============================] - 9s 142us/step - loss: 0.4605 - acc: 0.9249\n",
      "Epoch 48/50\n",
      "60000/60000 [==============================] - 8s 140us/step - loss: 0.4576 - acc: 0.9252\n",
      "Epoch 49/50\n",
      "60000/60000 [==============================] - 10s 160us/step - loss: 0.4557 - acc: 0.9253\n",
      "Epoch 50/50\n",
      "60000/60000 [==============================] - 16s 269us/step - loss: 0.4535 - acc: 0.9268\n"
     ]
    },
    {
     "data": {
      "text/plain": [
       "<keras.callbacks.History at 0x7fc8269c8eb8>"
      ]
     },
     "execution_count": 24,
     "metadata": {},
     "output_type": "execute_result"
    }
   ],
   "source": [
    "model.compile(loss='categorical_crossentropy',optimizer=\"adam\",metrics=['accuracy'])\n",
    "model.fit(x_train,y_train,batch_size=batch_size,epochs=n_epochs)"
   ]
  },
  {
   "cell_type": "code",
   "execution_count": 25,
   "metadata": {},
   "outputs": [
    {
     "name": "stdout",
     "output_type": "stream",
     "text": [
      "10000/10000 [==============================] - 1s 107us/step\n"
     ]
    },
    {
     "data": {
      "text/plain": [
       "[0.42809241585731506, 0.9317]"
      ]
     },
     "execution_count": 25,
     "metadata": {},
     "output_type": "execute_result"
    }
   ],
   "source": [
    "scores = model.evaluate(x_test,y_test)\n",
    "scores"
   ]
  },
  {
   "cell_type": "code",
   "execution_count": null,
   "metadata": {},
   "outputs": [],
   "source": []
  }
 ],
 "metadata": {
  "kernelspec": {
   "display_name": "Python 3",
   "language": "python",
   "name": "python3"
  },
  "language_info": {
   "codemirror_mode": {
    "name": "ipython",
    "version": 3
   },
   "file_extension": ".py",
   "mimetype": "text/x-python",
   "name": "python",
   "nbconvert_exporter": "python",
   "pygments_lexer": "ipython3",
   "version": "3.6.5"
  }
 },
 "nbformat": 4,
 "nbformat_minor": 2
}
