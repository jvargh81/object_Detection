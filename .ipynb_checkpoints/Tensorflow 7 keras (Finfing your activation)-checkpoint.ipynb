{
 "cells": [
  {
   "cell_type": "code",
   "execution_count": 33,
   "metadata": {},
   "outputs": [],
   "source": [
    "import tensorflow as tf\n",
    "from keras.models import Sequential\n",
    "from keras.layers import Dense\n",
    "from keras.utils import to_categorical\n",
    "from keras.callbacks import Callback\n",
    "from keras.datasets import mnist\n",
    "import numpy as np\n",
    "import keras\n",
    "\n",
    "import matplotlib.pyplot as plt\n",
    "%matplotlib inline"
   ]
  },
  {
   "cell_type": "code",
   "execution_count": 4,
   "metadata": {},
   "outputs": [],
   "source": [
    "(x_train,y_train),(x_test,y_test) = mnist.load_data()"
   ]
  },
  {
   "cell_type": "code",
   "execution_count": 6,
   "metadata": {},
   "outputs": [],
   "source": [
    "# standardizing the data\n",
    "X_train = x_train.astype('float32')/255\n",
    "X_test = x_test.astype('float32')/255"
   ]
  },
  {
   "cell_type": "code",
   "execution_count": 8,
   "metadata": {},
   "outputs": [],
   "source": [
    "# transforming to cateorical variables using one hot encoding\n",
    "Y_train = to_categorical(y_train,10)\n",
    "Y_test = to_categorical(y_test,10)"
   ]
  },
  {
   "cell_type": "code",
   "execution_count": 10,
   "metadata": {},
   "outputs": [],
   "source": [
    "# flatten the data\n",
    "X_train = np.reshape(X_train,(60000,784))\n",
    "X_test = np.reshape(X_test,(10000,784))"
   ]
  },
  {
   "cell_type": "code",
   "execution_count": 12,
   "metadata": {},
   "outputs": [],
   "source": [
    "#sigmoid activation function\n",
    "nn_sigmoid = Sequential()\n",
    "nn_sigmoid.add(Dense(700,input_dim=784,activation='sigmoid'))\n",
    "nn_sigmoid.add(Dense(700,activation='sigmoid'))\n",
    "nn_sigmoid.add(Dense(700,activation='sigmoid'))\n",
    "nn_sigmoid.add(Dense(700,activation='sigmoid'))\n",
    "nn_sigmoid.add(Dense(700,activation='sigmoid'))\n",
    "nn_sigmoid.add(Dense(350,activation='sigmoid'))\n",
    "nn_sigmoid.add(Dense(100,activation='sigmoid'))\n",
    "nn_sigmoid.add(Dense(10,activation='softmax')) # 10 neurons because 10 classes."
   ]
  },
  {
   "cell_type": "code",
   "execution_count": 14,
   "metadata": {},
   "outputs": [],
   "source": [
    "# compiling using sgd \n",
    "nn_sigmoid.compile(loss='categorical_crossentropy',optimizer='sgd',metrics=['accuracy']) "
   ]
  },
  {
   "cell_type": "code",
   "execution_count": 15,
   "metadata": {},
   "outputs": [],
   "source": [
    "#relu activation function\n",
    "nn_relu = Sequential()\n",
    "nn_relu.add(Dense(700,input_dim=784,activation='relu'))\n",
    "nn_relu.add(Dense(700,activation='relu'))\n",
    "nn_relu.add(Dense(700,activation='relu'))\n",
    "nn_relu.add(Dense(700,activation='relu'))\n",
    "nn_relu.add(Dense(700,activation='relu'))\n",
    "nn_relu.add(Dense(350,activation='relu'))\n",
    "nn_relu.add(Dense(100,activation='relu'))\n",
    "nn_relu.add(Dense(10,activation='softmax')) # 10 neurons because 10 classes."
   ]
  },
  {
   "cell_type": "code",
   "execution_count": 16,
   "metadata": {},
   "outputs": [],
   "source": [
    "nn_relu.compile(loss='categorical_crossentropy',optimizer='sgd',metrics=['accuracy'])"
   ]
  },
  {
   "cell_type": "code",
   "execution_count": 17,
   "metadata": {},
   "outputs": [],
   "source": [
    "#elu activation function\n",
    "nn_elu = Sequential()\n",
    "nn_elu.add(Dense(700,input_dim=784,activation='elu'))\n",
    "nn_elu.add(Dense(700,activation='elu'))\n",
    "nn_elu.add(Dense(700,activation='elu'))\n",
    "nn_elu.add(Dense(700,activation='elu'))\n",
    "nn_elu.add(Dense(700,activation='elu'))\n",
    "nn_elu.add(Dense(350,activation='elu'))\n",
    "nn_elu.add(Dense(100,activation='elu'))\n",
    "nn_elu.add(Dense(10,activation='softmax')) # 10 neurons because 10 classes."
   ]
  },
  {
   "cell_type": "code",
   "execution_count": 18,
   "metadata": {},
   "outputs": [],
   "source": [
    "nn_elu.compile(loss='categorical_crossentropy',optimizer='sgd',metrics=['accuracy'])"
   ]
  },
  {
   "cell_type": "code",
   "execution_count": 20,
   "metadata": {},
   "outputs": [],
   "source": [
    "class history_loss(keras.callbacks.Callback):\n",
    "    \n",
    "     def on_train_begin(self, logs={}):\n",
    "        self.losses = []\n",
    "    \n",
    "     def on_batch_end(self, batch, logs={}):\n",
    "        self.losses.append(logs.get('loss'))"
   ]
  },
  {
   "cell_type": "code",
   "execution_count": 22,
   "metadata": {},
   "outputs": [],
   "source": [
    "#hyper-parameters\n",
    "n_epochs = 20\n",
    "batch_size = 256\n",
    "validation_split = 0.2 # 80% training and 20% testing data"
   ]
  },
  {
   "cell_type": "code",
   "execution_count": 25,
   "metadata": {},
   "outputs": [
    {
     "name": "stdout",
     "output_type": "stream",
     "text": [
      "Train on 48000 samples, validate on 12000 samples\n",
      "Epoch 1/20\n",
      " - 16s - loss: 2.3145 - acc: 0.1086 - val_loss: 2.3027 - val_acc: 0.1060\n",
      "Epoch 2/20\n",
      " - 13s - loss: 2.3015 - acc: 0.1140 - val_loss: 2.3026 - val_acc: 0.1060\n",
      "Epoch 3/20\n",
      " - 13s - loss: 2.3015 - acc: 0.1140 - val_loss: 2.3026 - val_acc: 0.1060\n",
      "Epoch 4/20\n",
      " - 13s - loss: 2.3013 - acc: 0.1140 - val_loss: 2.3022 - val_acc: 0.1060\n",
      "Epoch 5/20\n",
      " - 13s - loss: 2.3015 - acc: 0.1135 - val_loss: 2.3025 - val_acc: 0.1060\n",
      "Epoch 6/20\n",
      " - 13s - loss: 2.3014 - acc: 0.1140 - val_loss: 2.3025 - val_acc: 0.1060\n",
      "Epoch 7/20\n",
      " - 14s - loss: 2.3014 - acc: 0.1140 - val_loss: 2.3023 - val_acc: 0.1060\n",
      "Epoch 8/20\n",
      " - 14s - loss: 2.3014 - acc: 0.1140 - val_loss: 2.3027 - val_acc: 0.1060\n",
      "Epoch 9/20\n",
      " - 13s - loss: 2.3014 - acc: 0.1140 - val_loss: 2.3023 - val_acc: 0.1060\n",
      "Epoch 10/20\n",
      " - 13s - loss: 2.3013 - acc: 0.1136 - val_loss: 2.3034 - val_acc: 0.1060\n",
      "Epoch 11/20\n",
      " - 14s - loss: 2.3014 - acc: 0.1140 - val_loss: 2.3019 - val_acc: 0.1060\n",
      "Epoch 12/20\n",
      " - 13s - loss: 2.3013 - acc: 0.1140 - val_loss: 2.3019 - val_acc: 0.1060\n",
      "Epoch 13/20\n",
      " - 13s - loss: 2.3014 - acc: 0.1140 - val_loss: 2.3024 - val_acc: 0.1060\n",
      "Epoch 14/20\n",
      " - 13s - loss: 2.3014 - acc: 0.1140 - val_loss: 2.3024 - val_acc: 0.1060\n",
      "Epoch 15/20\n",
      " - 13s - loss: 2.3014 - acc: 0.1140 - val_loss: 2.3027 - val_acc: 0.1060\n",
      "Epoch 16/20\n",
      " - 13s - loss: 2.3013 - acc: 0.1140 - val_loss: 2.3024 - val_acc: 0.1060\n",
      "Epoch 17/20\n",
      " - 13s - loss: 2.3014 - acc: 0.1136 - val_loss: 2.3024 - val_acc: 0.1060\n",
      "Epoch 18/20\n",
      " - 13s - loss: 2.3014 - acc: 0.1140 - val_loss: 2.3024 - val_acc: 0.1060\n",
      "Epoch 19/20\n",
      " - 14s - loss: 2.3014 - acc: 0.1140 - val_loss: 2.3022 - val_acc: 0.1060\n",
      "Epoch 20/20\n",
      " - 14s - loss: 2.3014 - acc: 0.1138 - val_loss: 2.3025 - val_acc: 0.1060\n"
     ]
    },
    {
     "data": {
      "text/plain": [
       "<keras.callbacks.History at 0x7f8f8e7d4400>"
      ]
     },
     "execution_count": 25,
     "metadata": {},
     "output_type": "execute_result"
    }
   ],
   "source": [
    "history_sigmoid = history_loss()\n",
    "nn_sigmoid.fit(X_train,Y_train,epochs=n_epochs,batch_size=batch_size,callbacks=[history_sigmoid],validation_split=validation_split,verbose=2)"
   ]
  },
  {
   "cell_type": "code",
   "execution_count": 26,
   "metadata": {
    "scrolled": true
   },
   "outputs": [
    {
     "name": "stdout",
     "output_type": "stream",
     "text": [
      "Train on 48000 samples, validate on 12000 samples\n",
      "Epoch 1/20\n",
      " - 19s - loss: 2.2125 - acc: 0.3295 - val_loss: 2.0157 - val_acc: 0.5550\n",
      "Epoch 2/20\n",
      " - 18s - loss: 1.3345 - acc: 0.7113 - val_loss: 0.7099 - val_acc: 0.8053\n",
      "Epoch 3/20\n",
      " - 17s - loss: 0.5443 - acc: 0.8417 - val_loss: 0.4018 - val_acc: 0.8894\n",
      "Epoch 4/20\n",
      " - 17s - loss: 0.3878 - acc: 0.8862 - val_loss: 0.3180 - val_acc: 0.9060\n",
      "Epoch 5/20\n",
      " - 17s - loss: 0.3255 - acc: 0.9045 - val_loss: 0.3488 - val_acc: 0.8962\n",
      "Epoch 6/20\n",
      " - 17s - loss: 0.2920 - acc: 0.9130 - val_loss: 0.2818 - val_acc: 0.9161\n",
      "Epoch 7/20\n",
      " - 17s - loss: 0.2633 - acc: 0.9212 - val_loss: 0.2542 - val_acc: 0.9264\n",
      "Epoch 8/20\n",
      " - 17s - loss: 0.2443 - acc: 0.9270 - val_loss: 0.2567 - val_acc: 0.9249\n",
      "Epoch 9/20\n",
      " - 17s - loss: 0.2236 - acc: 0.9333 - val_loss: 0.2061 - val_acc: 0.9400\n",
      "Epoch 10/20\n",
      " - 17s - loss: 0.2087 - acc: 0.9380 - val_loss: 0.2107 - val_acc: 0.9383\n",
      "Epoch 11/20\n",
      " - 17s - loss: 0.1962 - acc: 0.9420 - val_loss: 0.1840 - val_acc: 0.9476\n",
      "Epoch 12/20\n",
      " - 18s - loss: 0.1823 - acc: 0.9463 - val_loss: 0.1878 - val_acc: 0.9460\n",
      "Epoch 13/20\n",
      " - 18s - loss: 0.1726 - acc: 0.9490 - val_loss: 0.1721 - val_acc: 0.9499\n",
      "Epoch 14/20\n",
      " - 17s - loss: 0.1643 - acc: 0.9516 - val_loss: 0.1760 - val_acc: 0.9477\n",
      "Epoch 15/20\n",
      " - 17s - loss: 0.1538 - acc: 0.9547 - val_loss: 0.1644 - val_acc: 0.9524\n",
      "Epoch 16/20\n",
      " - 17s - loss: 0.1460 - acc: 0.9565 - val_loss: 0.1929 - val_acc: 0.9404\n",
      "Epoch 17/20\n",
      " - 17s - loss: 0.1387 - acc: 0.9588 - val_loss: 0.1421 - val_acc: 0.9588\n",
      "Epoch 18/20\n",
      " - 17s - loss: 0.1319 - acc: 0.9608 - val_loss: 0.1760 - val_acc: 0.9494\n",
      "Epoch 19/20\n",
      " - 17s - loss: 0.1246 - acc: 0.9628 - val_loss: 0.1378 - val_acc: 0.9608\n",
      "Epoch 20/20\n",
      " - 18s - loss: 0.1186 - acc: 0.9650 - val_loss: 0.1325 - val_acc: 0.9620\n"
     ]
    },
    {
     "data": {
      "text/plain": [
       "<keras.callbacks.History at 0x7f8f8c2b1748>"
      ]
     },
     "execution_count": 26,
     "metadata": {},
     "output_type": "execute_result"
    }
   ],
   "source": [
    "history_relu = history_loss()\n",
    "nn_relu.fit(X_train,Y_train,epochs=n_epochs,batch_size=batch_size,callbacks=[history_sigmoid],validation_split=validation_split,verbose=2)"
   ]
  },
  {
   "cell_type": "code",
   "execution_count": 27,
   "metadata": {},
   "outputs": [
    {
     "name": "stdout",
     "output_type": "stream",
     "text": [
      "Train on 48000 samples, validate on 12000 samples\n",
      "Epoch 1/20\n",
      " - 15s - loss: 0.8135 - acc: 0.7912 - val_loss: 0.4257 - val_acc: 0.8853\n",
      "Epoch 2/20\n",
      " - 14s - loss: 0.3952 - acc: 0.8903 - val_loss: 0.3294 - val_acc: 0.9092\n",
      "Epoch 3/20\n",
      " - 14s - loss: 0.3319 - acc: 0.9050 - val_loss: 0.2965 - val_acc: 0.9151\n",
      "Epoch 4/20\n",
      " - 14s - loss: 0.3002 - acc: 0.9132 - val_loss: 0.2724 - val_acc: 0.9229\n",
      "Epoch 5/20\n",
      " - 14s - loss: 0.2782 - acc: 0.9189 - val_loss: 0.2551 - val_acc: 0.9273\n",
      "Epoch 6/20\n",
      " - 14s - loss: 0.2613 - acc: 0.9239 - val_loss: 0.2414 - val_acc: 0.9315\n",
      "Epoch 7/20\n",
      " - 14s - loss: 0.2464 - acc: 0.9275 - val_loss: 0.2344 - val_acc: 0.9324\n",
      "Epoch 8/20\n",
      " - 14s - loss: 0.2337 - acc: 0.9313 - val_loss: 0.2276 - val_acc: 0.9337\n",
      "Epoch 9/20\n",
      " - 14s - loss: 0.2226 - acc: 0.9354 - val_loss: 0.2134 - val_acc: 0.9392\n",
      "Epoch 10/20\n",
      " - 14s - loss: 0.2121 - acc: 0.9381 - val_loss: 0.2074 - val_acc: 0.9423\n",
      "Epoch 11/20\n",
      " - 14s - loss: 0.2025 - acc: 0.9406 - val_loss: 0.1973 - val_acc: 0.9443\n",
      "Epoch 12/20\n",
      " - 14s - loss: 0.1937 - acc: 0.9428 - val_loss: 0.1955 - val_acc: 0.9444\n",
      "Epoch 13/20\n",
      " - 14s - loss: 0.1856 - acc: 0.9456 - val_loss: 0.1850 - val_acc: 0.9466\n",
      "Epoch 14/20\n",
      " - 14s - loss: 0.1784 - acc: 0.9474 - val_loss: 0.1799 - val_acc: 0.9496\n",
      "Epoch 15/20\n",
      " - 14s - loss: 0.1716 - acc: 0.9488 - val_loss: 0.1763 - val_acc: 0.9501\n",
      "Epoch 16/20\n",
      " - 14s - loss: 0.1656 - acc: 0.9502 - val_loss: 0.1702 - val_acc: 0.9521\n",
      "Epoch 17/20\n",
      " - 14s - loss: 0.1593 - acc: 0.9529 - val_loss: 0.1653 - val_acc: 0.9527\n",
      "Epoch 18/20\n",
      " - 14s - loss: 0.1539 - acc: 0.9540 - val_loss: 0.1610 - val_acc: 0.9552\n",
      "Epoch 19/20\n",
      " - 15s - loss: 0.1485 - acc: 0.9556 - val_loss: 0.1583 - val_acc: 0.9546\n",
      "Epoch 20/20\n",
      " - 14s - loss: 0.1436 - acc: 0.9578 - val_loss: 0.1527 - val_acc: 0.9573\n"
     ]
    },
    {
     "data": {
      "text/plain": [
       "<keras.callbacks.History at 0x7f8f8c3c3550>"
      ]
     },
     "execution_count": 27,
     "metadata": {},
     "output_type": "execute_result"
    }
   ],
   "source": [
    "history_elu = history_loss()\n",
    "nn_elu.fit(X_train,Y_train,epochs=n_epochs,batch_size=batch_size,callbacks=[history_sigmoid],validation_split=validation_split,verbose=2)"
   ]
  },
  {
   "cell_type": "code",
   "execution_count": 43,
   "metadata": {},
   "outputs": [
    {
     "data": {
      "image/png": "[encoded data removed]",
      "text/plain": [
       "<Figure size 432x288 with 1 Axes>"
      ]
     },
     "metadata": {},
     "output_type": "display_data"
    }
   ],
   "source": [
    "# plot the losses of each activation function\n",
    "plt.plot(np.arange(len(history_sigmoid.losses)),history_sigmoid.losses,label='sigmoid')\n",
    "plt.plot(np.arange(len(history_relu.losses)),history_relu.losses,label='relu')\n",
    "plt.plot(np.arange(len(history_elu.losses)),history_elu.losses,label='elu')\n",
    "plt.title('Losses of different activation function')\n",
    "plt.xlabel('number of batches')\n",
    "plt.legend(loc='best')\n",
    "plt.show()"
   ]
  },
  {
   "cell_type": "code",
   "execution_count": null,
   "metadata": {},
   "outputs": [],
   "source": []
  }
 ],
 "metadata": {
  "kernelspec": {
   "display_name": "Python 3",
   "language": "python",
   "name": "python3"
  },
  "language_info": {
   "codemirror_mode": {
    "name": "ipython",
    "version": 3
   },
   "file_extension": ".py",
   "mimetype": "text/x-python",
   "name": "python",
   "nbconvert_exporter": "python",
   "pygments_lexer": "ipython3",
   "version": "3.6.5"
  }
 },
 "nbformat": 4,
 "nbformat_minor": 2
}
