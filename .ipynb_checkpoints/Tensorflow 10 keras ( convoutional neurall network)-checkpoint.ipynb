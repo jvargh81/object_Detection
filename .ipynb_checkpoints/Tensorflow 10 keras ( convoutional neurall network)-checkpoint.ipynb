{
 "cells": [
  {
   "cell_type": "code",
   "execution_count": 1,
   "metadata": {},
   "outputs": [],
   "source": [
    "import math\n",
    "from sklearn.metrics import confusion_matrix\n",
    "import tensorflow as tf\n",
    "import numpy as np\n",
    "\n",
    "import matplotlib.pyplot as plt\n",
    "%matplotlib inline"
   ]
  },
  {
   "cell_type": "code",
   "execution_count": 4,
   "metadata": {},
   "outputs": [
    {
     "name": "stdout",
     "output_type": "stream",
     "text": [
      "Extracting ./data/mnist/train-images-idx3-ubyte.gz\n",
      "Extracting ./data/mnist/train-labels-idx1-ubyte.gz\n",
      "Extracting ./data/mnist/t10k-images-idx3-ubyte.gz\n",
      "Extracting ./data/mnist/t10k-labels-idx1-ubyte.gz\n"
     ]
    }
   ],
   "source": [
    "# dataset\n",
    "\n",
    "from tensorflow.examples.tutorials.mnist import input_data\n",
    "\n",
    "data = input_data.read_data_sets('./data/mnist/',one_hot=True)"
   ]
  },
  {
   "cell_type": "code",
   "execution_count": 6,
   "metadata": {},
   "outputs": [
    {
     "name": "stdout",
     "output_type": "stream",
     "text": [
      "size of training.set : \t\t55000\n",
      "size of test.set : \t\t10000\n",
      "size of validation.set : \t5000\n"
     ]
    }
   ],
   "source": [
    "print('size of training.set : \\t\\t{}'.format(len(data.train.labels)))\n",
    "print('size of test.set : \\t\\t{}'.format(len(data.test.labels)))\n",
    "print('size of validation.set : \\t{}'.format(len(data.validation.labels)))"
   ]
  },
  {
   "cell_type": "code",
   "execution_count": 8,
   "metadata": {},
   "outputs": [],
   "source": [
    "# retrieving contents of class labels\n",
    "data.test.cls = np.argmax(data.test.labels, axis=1)"
   ]
  },
  {
   "cell_type": "code",
   "execution_count": 9,
   "metadata": {},
   "outputs": [],
   "source": [
    "# number of each pixels in each dimension.\n",
    "img_size = 28\n",
    "\n",
    "# flattened format in 1-D\n",
    "img_size_flt = img_size * img_size\n",
    "\n",
    "# Tuple with height and width of images used to reshape arrays.\n",
    "img_shape = (img_size, img_size)\n",
    "\n",
    "# Number of color channels for the images : 1 channel for grey scale.\n",
    "num_channels = 1\n",
    "\n",
    "# number of classes \n",
    "num_classes = 10"
   ]
  },
  {
   "cell_type": "code",
   "execution_count": 133,
   "metadata": {},
   "outputs": [],
   "source": [
    "def plot_img(images, cls_label, cls_pred=None):\n",
    "    \n",
    "    fig, axes = plt.subplots(1,10, figsize=(15,15))\n",
    "    fig.subplots_adjust(hspace=0.1, wspace=0.3)\n",
    "    \n",
    "    for idx, ax in enumerate(axes.flat):\n",
    "        ax.imshow(images[idx].reshape(img_shape),cmap='binary')\n",
    "        \n",
    "        if cls_pred is None:\n",
    "            label = \"True: {0}\".format(cls_label[idx])\n",
    "        else:\n",
    "            label = \"True: {0} \\n Pred: {1}\".format(cls_label[idx],cls_pred[idx])\n",
    "            \n",
    "        ax.set_xlabel(label)\n",
    "        ax.set_xticks([])\n",
    "        ax.set_yticks([])\n",
    "        \n",
    "    plt.show()"
   ]
  },
  {
   "cell_type": "code",
   "execution_count": 17,
   "metadata": {},
   "outputs": [
    {
     "data": {
      "image/png": "[encoded data removed]",
      "text/plain": [
       "<Figure size 1080x1080 with 10 Axes>"
      ]
     },
     "metadata": {},
     "output_type": "display_data"
    }
   ],
   "source": [
    "# getting the first ten values\n",
    "images = data.test.images[0:10]\n",
    "\n",
    "# getting the true classes\n",
    "cls_true = data.test.cls[0:10]\n",
    "\n",
    "# plot the images\n",
    "plot_img(images=images, cls_label=cls_true)"
   ]
  },
  {
   "cell_type": "code",
   "execution_count": 18,
   "metadata": {},
   "outputs": [],
   "source": [
    "x = tf.placeholder(tf.float32, shape=[None, img_size_flt], name='x')"
   ]
  },
  {
   "cell_type": "code",
   "execution_count": 19,
   "metadata": {},
   "outputs": [],
   "source": [
    "# in this conv-net the x is encoded to be 4dim tensor [num_images, img_height,img_width,num_channels]\n",
    "# num_images can be inferred automatically by using -1 for the size of the firtss dim.\n",
    "\n",
    "x_image = tf.reshape(x, [-1,img_size,img_size,num_channels])"
   ]
  },
  {
   "cell_type": "code",
   "execution_count": 20,
   "metadata": {},
   "outputs": [],
   "source": [
    "# this variable represents the true labels associated with the images that were input in the place holder x\n",
    "# this is a 2dim tensor.\n",
    "\n",
    "y_true = tf.placeholder(tf.float32,shape=[None,num_classes], name='y_true')"
   ]
  },
  {
   "cell_type": "code",
   "execution_count": 21,
   "metadata": {},
   "outputs": [],
   "source": [
    "# retrieving the data using argmax as it is one-hot encoded.\n",
    "y_true_cls = tf.argmax(y_true,axis=1)"
   ]
  },
  {
   "cell_type": "code",
   "execution_count": 34,
   "metadata": {},
   "outputs": [],
   "source": [
    "# convnet layer 1\n",
    "filter_size1 = 5\n",
    "num_filters1 = 16\n",
    "\n",
    "# convnet layer 2\n",
    "filter_size2 = 5\n",
    "num_filters2 = 36\n",
    "\n",
    "#fully connected layer\n",
    "fc_size = 128\n"
   ]
  },
  {
   "cell_type": "code",
   "execution_count": 35,
   "metadata": {},
   "outputs": [],
   "source": [
    "# generating weights and biases for thr convnet\n",
    "\n",
    "def new_weights(shape):\n",
    "    return tf.Variable(tf.truncated_normal(shape, stddev=0.05))\n",
    "\n",
    "def new_biases(length):\n",
    "    return tf.Variable(tf.constant(0.05, shape=[length]))\n"
   ]
  },
  {
   "cell_type": "code",
   "execution_count": 36,
   "metadata": {},
   "outputs": [],
   "source": [
    "# creating the conv-net\n",
    "def conv_layer(input,            #the previous layer\n",
    "              num_input_channels,#num of channels in previous layer\n",
    "              filter_size,       #width and height of each layer\n",
    "              num_filters,       #number of filters\n",
    "              ):\n",
    "    \n",
    "    #shape of the filter and weights for the conv-net\n",
    "    shape = [filter_size, filter_size, num_input_channels, num_filters]\n",
    "    \n",
    "    #create new weight filters with the given shape\n",
    "    weights = new_weights(shape=shape)\n",
    "    \n",
    "    #create biases, one for each filter\n",
    "    biases = new_biases(length=num_filters)\n",
    "    \n",
    "    # creating the layer.\n",
    "    layer = tf.nn.conv2d(input=input,\n",
    "                        filter=weights,\n",
    "                        strides=[1,1,1,1], # strides set to one in all dim, \n",
    "                                           # first and the last stride should always be one\n",
    "                                           # first for image_number, last for input_channels.\n",
    "                        padding='SAME')    # padding is set to same, meaning the input image is padded with \n",
    "                                           # zeros, so that the output image size is same.\n",
    "    layer += biases\n",
    "    \n",
    "    # using pooling to down sample the image.\n",
    "    # its a 2x2 max pooling\n",
    "    layer = tf.nn.max_pool(value=layer,ksize=[1,2,2,1],strides=[1,2,2,1],padding='SAME')\n",
    "    \n",
    "    # activation function used relu.\n",
    "    layer = tf.nn.relu(layer)\n",
    "    \n",
    "    # Note: Relu  is normally used before pooling, but since relu(max_pool(x)) == max_pool(relu(x))\n",
    "    # we can save 75% of the relu-operations by max-pooling first.\n",
    "    \n",
    "    return layer, weights"
   ]
  },
  {
   "cell_type": "code",
   "execution_count": 37,
   "metadata": {},
   "outputs": [],
   "source": [
    "def flatten_layer(layer):\n",
    "    layer_shape = layer.get_shape() # 4dim tensor\n",
    "    \n",
    "    # number of features : img_height * img_width * num_channels\n",
    "    num_features = layer_shape[1:4].num_elements()\n",
    "    \n",
    "    # reshape the layer to [num_images, num_features]\n",
    "    # Note that we just set the size of the second dim\n",
    "    # to num_features and the size of the first dim to -1 (all data)\n",
    "    # which means the size in that dim is calculated\n",
    "    # so the total size of the tensor is unchanged from the reshaping.\n",
    "    layer_flat = tf.reshape(layer, [-1, num_features])\n",
    "    \n",
    "    # the shape of the flattened layer is now:\n",
    "    # [num_images, img_height * img_width * num_channels]\n",
    "    \n",
    "    return layer_flat, num_features"
   ]
  },
  {
   "cell_type": "code",
   "execution_count": 38,
   "metadata": {},
   "outputs": [],
   "source": [
    "def new_fc_layer(input,         #the previous layer.\n",
    "                num_inputs,     #num of inputs from prev layer.\n",
    "                num_outputs,    #num outputs. \n",
    "                use_relu=True): #use rectified linear unit (Relu)\n",
    "    \n",
    "    weights = new_weights(shape=[num_inputs, num_outputs])\n",
    "    biases  = new_biases(length=num_outputs)\n",
    "    \n",
    "    #calculate the layer as the dot product of\n",
    "    #the input and weights, and then add the bias-values.\n",
    "    layer = tf.matmul(input, weights) + biases\n",
    "    \n",
    "    if use_relu:\n",
    "        layer = tf.nn.relu(layer)\n",
    "    \n",
    "    return layer    "
   ]
  },
  {
   "cell_type": "code",
   "execution_count": 39,
   "metadata": {},
   "outputs": [],
   "source": [
    "# conv-net layer 1\n",
    "layer_conv1, weights_conv1 = conv_layer(input=x_image, \n",
    "                                        num_input_channels=num_channels,\n",
    "                                       filter_size=filter_size1,\n",
    "                                        num_filters=num_filters1,)\n"
   ]
  },
  {
   "cell_type": "code",
   "execution_count": 40,
   "metadata": {},
   "outputs": [
    {
     "data": {
      "text/plain": [
       "<tf.Tensor 'Relu_2:0' shape=(?, 14, 14, 16) dtype=float32>"
      ]
     },
     "execution_count": 40,
     "metadata": {},
     "output_type": "execute_result"
    }
   ],
   "source": [
    "# size after convolution operation.\n",
    "layer_conv1"
   ]
  },
  {
   "cell_type": "code",
   "execution_count": 45,
   "metadata": {},
   "outputs": [],
   "source": [
    "# conv-net layer 2\n",
    "layer_conv2, weights_conv2 = conv_layer(input=layer_conv1, \n",
    "                                        num_input_channels=num_filters1,\n",
    "                                       filter_size=filter_size2,\n",
    "                                       num_filters=num_filters2,)"
   ]
  },
  {
   "cell_type": "code",
   "execution_count": 46,
   "metadata": {},
   "outputs": [
    {
     "data": {
      "text/plain": [
       "<tf.Tensor 'Relu_4:0' shape=(?, 7, 7, 36) dtype=float32>"
      ]
     },
     "execution_count": 46,
     "metadata": {},
     "output_type": "execute_result"
    }
   ],
   "source": [
    "layer_conv2"
   ]
  },
  {
   "cell_type": "code",
   "execution_count": 47,
   "metadata": {},
   "outputs": [
    {
     "data": {
      "text/plain": [
       "1764"
      ]
     },
     "execution_count": 47,
     "metadata": {},
     "output_type": "execute_result"
    }
   ],
   "source": [
    "# flatten layer conversion\n",
    "layer_flat, num_features = flatten_layer(layer_conv2)\n",
    "num_features"
   ]
  },
  {
   "cell_type": "code",
   "execution_count": 48,
   "metadata": {},
   "outputs": [],
   "source": [
    "# fully connected layer1.\n",
    "layer_fc1 = new_fc_layer(input=layer_flat,\n",
    "                        num_inputs=num_features,\n",
    "                        num_outputs=fc_size,\n",
    "                        use_relu=True)"
   ]
  },
  {
   "cell_type": "code",
   "execution_count": 49,
   "metadata": {},
   "outputs": [
    {
     "data": {
      "text/plain": [
       "<tf.Tensor 'Relu_5:0' shape=(?, 128) dtype=float32>"
      ]
     },
     "execution_count": 49,
     "metadata": {},
     "output_type": "execute_result"
    }
   ],
   "source": [
    "layer_fc1"
   ]
  },
  {
   "cell_type": "code",
   "execution_count": 50,
   "metadata": {},
   "outputs": [],
   "source": [
    "# fully connected layer.\n",
    "layer_fc2 = new_fc_layer(input=layer_fc1,\n",
    "                        num_inputs=fc_size,\n",
    "                        num_outputs=num_classes,\n",
    "                        use_relu=False)"
   ]
  },
  {
   "cell_type": "code",
   "execution_count": 51,
   "metadata": {},
   "outputs": [
    {
     "data": {
      "text/plain": [
       "<tf.Tensor 'add_6:0' shape=(?, 10) dtype=float32>"
      ]
     },
     "execution_count": 51,
     "metadata": {},
     "output_type": "execute_result"
    }
   ],
   "source": [
    "layer_fc2"
   ]
  },
  {
   "cell_type": "code",
   "execution_count": 52,
   "metadata": {},
   "outputs": [],
   "source": [
    "# prediction \n",
    "y_pred = tf.nn.softmax(layer_fc2)"
   ]
  },
  {
   "cell_type": "code",
   "execution_count": 54,
   "metadata": {},
   "outputs": [],
   "source": [
    "# getting the class of the prediction\n",
    "y_pred_cls = tf.argmax(y_pred, axis=1)"
   ]
  },
  {
   "cell_type": "code",
   "execution_count": 55,
   "metadata": {},
   "outputs": [],
   "source": [
    "cross_entropy = tf.nn.softmax_cross_entropy_with_logits_v2(logits=layer_fc2,labels=y_true)"
   ]
  },
  {
   "cell_type": "code",
   "execution_count": 56,
   "metadata": {},
   "outputs": [],
   "source": [
    "#we are taking the average of all crossentropy for all the image classification.\n",
    "cost = tf.reduce_mean(cross_entropy)"
   ]
  },
  {
   "cell_type": "code",
   "execution_count": 57,
   "metadata": {},
   "outputs": [],
   "source": [
    "optimizer = tf.train.AdamOptimizer(learning_rate=1e-4).minimize(cost)"
   ]
  },
  {
   "cell_type": "code",
   "execution_count": 58,
   "metadata": {},
   "outputs": [],
   "source": [
    "correct_prediction = tf.equal(y_pred_cls,y_true_cls)"
   ]
  },
  {
   "cell_type": "code",
   "execution_count": 60,
   "metadata": {},
   "outputs": [],
   "source": [
    "accuracy = tf.reduce_mean(tf.cast(correct_prediction, tf.float32))"
   ]
  },
  {
   "cell_type": "code",
   "execution_count": 61,
   "metadata": {},
   "outputs": [],
   "source": [
    "# creating a session\n",
    "session = tf.Session()\n",
    "init = tf.global_variables_initializer()\n",
    "session.run(init)"
   ]
  },
  {
   "cell_type": "code",
   "execution_count": 62,
   "metadata": {},
   "outputs": [],
   "source": [
    "train_batch_size = 64"
   ]
  },
  {
   "cell_type": "code",
   "execution_count": 65,
   "metadata": {},
   "outputs": [],
   "source": [
    "total_iteration = 0\n",
    "\n",
    "def optimize(num_iterations):\n",
    "    global total_iteration\n",
    "    \n",
    "    for i in range(total_iteration, total_iteration + num_iterations):\n",
    "        \n",
    "        # get the batch of trainning examples\n",
    "        # x_batch holds a batch of images\n",
    "        # y_true_batch are the true labels for the images.\n",
    "        x_batch, y_true_batch = data.train.next_batch(train_batch_size)\n",
    "        \n",
    "        # implementing a dictionary for the batches\n",
    "        feed_dict_train = {x:x_batch, y_true:y_true_batch}\n",
    "        \n",
    "        # run the optimizer using batch of training data.\n",
    "        # tensorflow assigns the variables in the dict to the placeholder and then will run the optimizer.\n",
    "        session.run(optimizer, feed_dict=feed_dict_train)\n",
    "        \n",
    "        if i % 100 == 0:\n",
    "            acc = session.run(accuracy, feed_dict=feed_dict_train)\n",
    "            msg = 'optimization itteration : {0:>6}, Training Accuracy: {1:>6.1%}'\n",
    "            print(msg.format(i+1,acc))\n",
    "        \n",
    "        total_iteration += num_iterations"
   ]
  },
  {
   "cell_type": "code",
   "execution_count": 67,
   "metadata": {},
   "outputs": [],
   "source": [
    "def plot_example_errors(cls_pred, correct):\n",
    "    # cls_pred is an array of the predicted class number for all images in the test set.\n",
    "    # correct is a boolean array whether the predicted class\n",
    "    # is equal to the true class for each image in the test-set.\n",
    "    \n",
    "    # negate the bolean array.\n",
    "    incorrect = (correct == False)\n",
    "    \n",
    "    #get the images from the test set that have been incorrectly classified.\n",
    "    images = data.test.images[incorrect]\n",
    "    \n",
    "    #get the predicted classes for those images.\n",
    "    cls_pred = cls_pred[incorrect]\n",
    "    \n",
    "    #get the true classes for those images.\n",
    "    cls_true = data.test.cls[incorrect]\n",
    "    \n",
    "    plot_img(images=images[0:10],\n",
    "             cls_label=cls_true[0:10],\n",
    "             cls_pred=cls_pred[0:10])"
   ]
  },
  {
   "cell_type": "code",
   "execution_count": 86,
   "metadata": {},
   "outputs": [],
   "source": [
    "def plot_confusion_matrix(cls_pred):\n",
    "    cls_true = data.test.cls\n",
    "    \n",
    "    cm = confusion_matrix(y_true=cls_true,y_pred=cls_pred)\n",
    "    \n",
    "    print(cm)\n",
    "    \n",
    "    plt.matshow(cm)\n",
    "    \n",
    "    tick_marks = np.arange(num_classes)\n",
    "    plt.xticks(tick_marks, range(num_classes))\n",
    "    plt.yticks(tick_marks, range(num_classes))\n",
    "    plt.xlabel('predicted')\n",
    "    plt.ylabel('true')\n",
    "    plt.show()"
   ]
  },
  {
   "cell_type": "code",
   "execution_count": 79,
   "metadata": {},
   "outputs": [],
   "source": [
    "test_batch_size = 256\n",
    "\n",
    "def print_test_accuracy(show_example_errors=False,\n",
    "                       show_confusion_matrix=False):\n",
    "    \n",
    "    num_test = len(data.test.images)\n",
    "    \n",
    "    cls_pred = np.zeros(shape=num_test, dtype=np.int)\n",
    "    \n",
    "    i = 0\n",
    "    \n",
    "    while i < num_test:\n",
    "        \n",
    "        # ending index of the next batch is denoted by j.\n",
    "        j = min(i + test_batch_size, num_test)\n",
    "        \n",
    "        # get the image from the test set between index i and  j.\n",
    "        images = data.test.images[i:j,:]\n",
    "        \n",
    "        #get the associated labels.\n",
    "        labels = data.test.labels[i:j,:]\n",
    "        \n",
    "        # create a feed-dict with these images and labels.\n",
    "        feed_dict = {x:images,\n",
    "                    y_true:labels}\n",
    "        \n",
    "        # calculate the predicted class using tensorflow.\n",
    "        cls_pred[i:j] = session.run(y_pred_cls,feed_dict=feed_dict)\n",
    "        \n",
    "        # setting start index of the next batch by end index of this batch.\n",
    "        i = j\n",
    "    \n",
    "    cls_true = data.test.cls\n",
    "    \n",
    "    #create a bolean array whether each image is correctly classified.\n",
    "    correct = (cls_true == cls_pred)\n",
    "    \n",
    "    #calculate the number of correctly classified images,\n",
    "    #when suming a bolean array, false means 0 and True means 1.\n",
    "    \n",
    "    correct_sum = correct.sum()\n",
    "    \n",
    "    acc = float(correct_sum) / num_test\n",
    "    \n",
    "    msg = 'Accuracy on test set: {0:.1%} ({1}/{2})'\n",
    "    print(msg.format(acc,correct_sum,num_test))\n",
    "    \n",
    "    # Plot some examples of misclassification, if desired\n",
    "    if show_example_errors:\n",
    "        print('Example errors:')\n",
    "        plot_example_errors(cls_pred=cls_pred,correct=correct)\n",
    "    \n",
    "    #plot the confusoin matrix \n",
    "    if show_confusion_matrix:\n",
    "        print(\"Confusion Matrix :\")\n",
    "        plot_confusion_matrix(cls_pred=cls_pred)"
   ]
  },
  {
   "cell_type": "code",
   "execution_count": 73,
   "metadata": {},
   "outputs": [
    {
     "name": "stdout",
     "output_type": "stream",
     "text": [
      "Accuracy on test set: 9.9% (986/10000)\n"
     ]
    }
   ],
   "source": [
    "print_test_accuracy()"
   ]
  },
  {
   "cell_type": "code",
   "execution_count": 74,
   "metadata": {},
   "outputs": [
    {
     "name": "stdout",
     "output_type": "stream",
     "text": [
      "optimization itteration :      1, Training Accuracy:   7.8%\n"
     ]
    }
   ],
   "source": [
    "optimize(num_iterations=10)"
   ]
  },
  {
   "cell_type": "code",
   "execution_count": 75,
   "metadata": {},
   "outputs": [
    {
     "name": "stdout",
     "output_type": "stream",
     "text": [
      "Accuracy on test set: 9.8% (980/10000)\n"
     ]
    }
   ],
   "source": [
    "print_test_accuracy()"
   ]
  },
  {
   "cell_type": "code",
   "execution_count": 76,
   "metadata": {},
   "outputs": [
    {
     "name": "stdout",
     "output_type": "stream",
     "text": [
      "optimization itteration :    101, Training Accuracy:  12.5%\n",
      "optimization itteration :    201, Training Accuracy:  67.2%\n",
      "optimization itteration :    301, Training Accuracy:  76.6%\n",
      "optimization itteration :    401, Training Accuracy:  84.4%\n",
      "optimization itteration :    501, Training Accuracy:  85.9%\n",
      "optimization itteration :    601, Training Accuracy:  82.8%\n",
      "optimization itteration :    701, Training Accuracy:  90.6%\n",
      "optimization itteration :    801, Training Accuracy:  90.6%\n",
      "optimization itteration :    901, Training Accuracy:  90.6%\n",
      "optimization itteration :   1001, Training Accuracy:  90.6%\n"
     ]
    }
   ],
   "source": [
    "optimize(num_iterations=990)"
   ]
  },
  {
   "cell_type": "code",
   "execution_count": 80,
   "metadata": {},
   "outputs": [
    {
     "name": "stdout",
     "output_type": "stream",
     "text": [
      "Accuracy on test set: 92.9% (9294/10000)\n",
      "Example errors:\n"
     ]
    },
    {
     "data": {
      "image/png": "[encoded data removed]",
      "text/plain": [
       "<Figure size 1080x1080 with 10 Axes>"
      ]
     },
     "metadata": {},
     "output_type": "display_data"
    }
   ],
   "source": [
    "print_test_accuracy(show_example_errors=True)"
   ]
  },
  {
   "cell_type": "code",
   "execution_count": 82,
   "metadata": {},
   "outputs": [
    {
     "name": "stdout",
     "output_type": "stream",
     "text": [
      "optimization itteration : 3464201, Training Accuracy:  95.3%\n",
      "optimization itteration : 3464301, Training Accuracy:  95.3%\n",
      "optimization itteration : 3464401, Training Accuracy:  96.9%\n",
      "optimization itteration : 3464501, Training Accuracy:  96.9%\n",
      "optimization itteration : 3464601, Training Accuracy:  93.8%\n",
      "optimization itteration : 3464701, Training Accuracy:  93.8%\n",
      "optimization itteration : 3464801, Training Accuracy:  98.4%\n",
      "optimization itteration : 3464901, Training Accuracy:  95.3%\n",
      "optimization itteration : 3465001, Training Accuracy:  96.9%\n",
      "optimization itteration : 3465101, Training Accuracy:  95.3%\n",
      "optimization itteration : 3465201, Training Accuracy:  98.4%\n",
      "optimization itteration : 3465301, Training Accuracy:  98.4%\n",
      "optimization itteration : 3465401, Training Accuracy:  98.4%\n",
      "optimization itteration : 3465501, Training Accuracy:  92.2%\n",
      "optimization itteration : 3465601, Training Accuracy:  96.9%\n",
      "optimization itteration : 3465701, Training Accuracy:  95.3%\n",
      "optimization itteration : 3465801, Training Accuracy:  95.3%\n",
      "optimization itteration : 3465901, Training Accuracy:  95.3%\n",
      "optimization itteration : 3466001, Training Accuracy:  96.9%\n",
      "optimization itteration : 3466101, Training Accuracy:  98.4%\n",
      "optimization itteration : 3466201, Training Accuracy:  95.3%\n",
      "optimization itteration : 3466301, Training Accuracy:  98.4%\n",
      "optimization itteration : 3466401, Training Accuracy:  95.3%\n",
      "optimization itteration : 3466501, Training Accuracy:  96.9%\n",
      "optimization itteration : 3466601, Training Accuracy:  95.3%\n",
      "optimization itteration : 3466701, Training Accuracy:  92.2%\n",
      "optimization itteration : 3466801, Training Accuracy: 100.0%\n",
      "optimization itteration : 3466901, Training Accuracy:  96.9%\n",
      "optimization itteration : 3467001, Training Accuracy: 100.0%\n",
      "optimization itteration : 3467101, Training Accuracy:  96.9%\n",
      "optimization itteration : 3467201, Training Accuracy:  98.4%\n",
      "optimization itteration : 3467301, Training Accuracy: 100.0%\n",
      "optimization itteration : 3467401, Training Accuracy:  98.4%\n",
      "optimization itteration : 3467501, Training Accuracy:  96.9%\n",
      "optimization itteration : 3467601, Training Accuracy:  92.2%\n",
      "optimization itteration : 3467701, Training Accuracy:  95.3%\n",
      "optimization itteration : 3467801, Training Accuracy:  96.9%\n",
      "optimization itteration : 3467901, Training Accuracy:  98.4%\n",
      "optimization itteration : 3468001, Training Accuracy:  95.3%\n",
      "optimization itteration : 3468101, Training Accuracy: 100.0%\n",
      "optimization itteration : 3468201, Training Accuracy:  96.9%\n",
      "optimization itteration : 3468301, Training Accuracy:  95.3%\n",
      "optimization itteration : 3468401, Training Accuracy:  96.9%\n",
      "optimization itteration : 3468501, Training Accuracy:  93.8%\n",
      "optimization itteration : 3468601, Training Accuracy:  96.9%\n",
      "optimization itteration : 3468701, Training Accuracy: 100.0%\n",
      "optimization itteration : 3468801, Training Accuracy: 100.0%\n",
      "optimization itteration : 3468901, Training Accuracy:  98.4%\n",
      "optimization itteration : 3469001, Training Accuracy: 100.0%\n",
      "optimization itteration : 3469101, Training Accuracy:  98.4%\n",
      "optimization itteration : 3469201, Training Accuracy:  96.9%\n",
      "optimization itteration : 3469301, Training Accuracy: 100.0%\n",
      "optimization itteration : 3469401, Training Accuracy:  98.4%\n",
      "optimization itteration : 3469501, Training Accuracy:  98.4%\n",
      "optimization itteration : 3469601, Training Accuracy:  98.4%\n",
      "optimization itteration : 3469701, Training Accuracy: 100.0%\n",
      "optimization itteration : 3469801, Training Accuracy:  96.9%\n",
      "optimization itteration : 3469901, Training Accuracy:  95.3%\n",
      "optimization itteration : 3470001, Training Accuracy:  95.3%\n",
      "optimization itteration : 3470101, Training Accuracy:  98.4%\n",
      "optimization itteration : 3470201, Training Accuracy: 100.0%\n",
      "optimization itteration : 3470301, Training Accuracy: 100.0%\n",
      "optimization itteration : 3470401, Training Accuracy:  98.4%\n",
      "optimization itteration : 3470501, Training Accuracy: 100.0%\n",
      "optimization itteration : 3470601, Training Accuracy:  98.4%\n",
      "optimization itteration : 3470701, Training Accuracy: 100.0%\n",
      "optimization itteration : 3470801, Training Accuracy: 100.0%\n",
      "optimization itteration : 3470901, Training Accuracy:  96.9%\n",
      "optimization itteration : 3471001, Training Accuracy:  96.9%\n",
      "optimization itteration : 3471101, Training Accuracy:  98.4%\n",
      "optimization itteration : 3471201, Training Accuracy: 100.0%\n",
      "optimization itteration : 3471301, Training Accuracy: 100.0%\n",
      "optimization itteration : 3471401, Training Accuracy: 100.0%\n",
      "optimization itteration : 3471501, Training Accuracy: 100.0%\n",
      "optimization itteration : 3471601, Training Accuracy: 100.0%\n",
      "optimization itteration : 3471701, Training Accuracy:  96.9%\n",
      "optimization itteration : 3471801, Training Accuracy:  98.4%\n",
      "optimization itteration : 3471901, Training Accuracy: 100.0%\n",
      "optimization itteration : 3472001, Training Accuracy:  98.4%\n",
      "optimization itteration : 3472101, Training Accuracy:  98.4%\n",
      "optimization itteration : 3472201, Training Accuracy:  98.4%\n",
      "optimization itteration : 3472301, Training Accuracy:  96.9%\n",
      "optimization itteration : 3472401, Training Accuracy:  98.4%\n",
      "optimization itteration : 3472501, Training Accuracy:  98.4%\n",
      "optimization itteration : 3472601, Training Accuracy: 100.0%\n",
      "optimization itteration : 3472701, Training Accuracy:  98.4%\n",
      "optimization itteration : 3472801, Training Accuracy: 100.0%\n",
      "optimization itteration : 3472901, Training Accuracy: 100.0%\n",
      "optimization itteration : 3473001, Training Accuracy:  98.4%\n",
      "optimization itteration : 3473101, Training Accuracy: 100.0%\n"
     ]
    }
   ],
   "source": [
    "optimize(num_iterations=9000)"
   ]
  },
  {
   "cell_type": "code",
   "execution_count": 87,
   "metadata": {},
   "outputs": [
    {
     "name": "stdout",
     "output_type": "stream",
     "text": [
      "Accuracy on test set: 98.5% (9850/10000)\n",
      "Example errors:\n"
     ]
    },
    {
     "data": {
      "image/png": "[encoded data removed]",
      "text/plain": [
       "<Figure size 1080x1080 with 10 Axes>"
      ]
     },
     "metadata": {},
     "output_type": "display_data"
    },
    {
     "name": "stdout",
     "output_type": "stream",
     "text": [
      "Confusion Matrix :\n",
      "[[ 974    0    0    0    0    1    1    1    3    0]\n",
      " [   0 1130    0    0    0    1    1    0    3    0]\n",
      " [   2    2 1011    3    1    0    0    4    9    0]\n",
      " [   0    0    0 1002    0    5    0    2    1    0]\n",
      " [   0    0    0    0  971    0    0    3    2    6]\n",
      " [   1    0    0    1    0  889    1    0    0    0]\n",
      " [   9    3    0    1    3   16  925    0    1    0]\n",
      " [   1    2    4    3    1    1    0 1010    3    3]\n",
      " [   3    0    2    5    0    3    0    2  957    2]\n",
      " [   3    3    0    4    4    7    0    3    4  981]]\n"
     ]
    },
    {
     "data": {
      "image/png": "[encoded data removed]",
      "text/plain": [
       "<Figure size 288x288 with 1 Axes>"
      ]
     },
     "metadata": {},
     "output_type": "display_data"
    }
   ],
   "source": [
    "print_test_accuracy(show_example_errors=True,show_confusion_matrix=True)"
   ]
  },
  {
   "cell_type": "code",
   "execution_count": 88,
   "metadata": {},
   "outputs": [],
   "source": [
    "def plot_conv_weights(weights, input_channel= 0):\n",
    "    # retrieve the values of the weight variables from tensorflow\n",
    "    # A feed dict is not necessary because nothing is calculated.\n",
    "    w = session.run(weights)\n",
    "    \n",
    "    # get the min and max values of weights, so as to correct the color intensity for comparison.\n",
    "    w_min = np.min(w)\n",
    "    w_max = np.max(w)\n",
    "    \n",
    "    num_filters = w.shape[3] #nummber of filters in the conv layer\n",
    "    \n",
    "    # Number of grids to plot.\n",
    "    # Rounded-up square-root of the number of filtrs.\n",
    "    num_grids = math.ceil(math.sqrt(num_filters))\n",
    "    \n",
    "    # create fig with grid of subplot\n",
    "    fig, axes = plt.subplots(num_grids,num_grids)\n",
    "    \n",
    "    for i, ax in enumerate(axes.flat):\n",
    "        # plot the filter weights.\n",
    "        if i < num_filters:\n",
    "            # get the ith filter of the input channel.\n",
    "            img = w[:,:,input_channel,i]\n",
    "            ax.imshow(img,vmin=w_min,vmax=w_max,interpolation='nearest',cmap='seismic')\n",
    "            \n",
    "        ax.set_xticks([])\n",
    "        ax.set_yticks([])\n",
    "    \n",
    "    plt.show()"
   ]
  },
  {
   "cell_type": "code",
   "execution_count": 101,
   "metadata": {},
   "outputs": [],
   "source": [
    "def plot_conv_layer(layer, image):\n",
    "    \n",
    "    # create a dict with just image as we don't need y_true here.\n",
    "    feed_dict = {x:images}\n",
    "    \n",
    "    # retrieve the output values of the layer.\n",
    "    values = session.run(layer, feed_dict=feed_dict)\n",
    "    \n",
    "    # number of filter used in the conv lyer.\n",
    "    num_filters = values.shape[3]\n",
    "    \n",
    "    # Number of grids to plot.\n",
    "    # Rounded-up square-root of the number of filtrs.\n",
    "    num_grids = math.ceil(math.sqrt(num_filters))\n",
    "    \n",
    "    # create fig with grid of subplot\n",
    "    fig, axes = plt.subplots(num_grids,num_grids)\n",
    "    \n",
    "    for i, ax in enumerate(axes.flat):\n",
    "        # plot the filter weights.\n",
    "        if i < num_filters:\n",
    "            # get the ith filter of the input channel.\n",
    "            img = values[0,:,:,i]\n",
    "            ax.imshow(img,interpolation='nearest',cmap='binary')\n",
    "            \n",
    "        ax.set_xticks([])\n",
    "        ax.set_yticks([])\n",
    "    \n",
    "    plt.show()"
   ]
  },
  {
   "cell_type": "code",
   "execution_count": 102,
   "metadata": {},
   "outputs": [
    {
     "data": {
      "image/png": "[encoded data removed]",
      "text/plain": [
       "<Figure size 432x288 with 16 Axes>"
      ]
     },
     "metadata": {},
     "output_type": "display_data"
    }
   ],
   "source": [
    "# conv-net layer1 weights\n",
    "plot_conv_weights(weights=weights_conv1)"
   ]
  },
  {
   "cell_type": "code",
   "execution_count": 103,
   "metadata": {},
   "outputs": [],
   "source": [
    "def plot_image(image):\n",
    "    plt.imshow(image.reshape(img_shape),\n",
    "              interpolation='nearest',cmap='binary')\n",
    "    plt.show()"
   ]
  },
  {
   "cell_type": "code",
   "execution_count": 104,
   "metadata": {},
   "outputs": [
    {
     "data": {
      "image/png": "[encoded data removed]",
      "text/plain": [
       "<Figure size 432x288 with 1 Axes>"
      ]
     },
     "metadata": {},
     "output_type": "display_data"
    }
   ],
   "source": [
    "image1 = data.test.images[97]\n",
    "plot_image(image1)"
   ]
  },
  {
   "cell_type": "code",
   "execution_count": 105,
   "metadata": {},
   "outputs": [
    {
     "data": {
      "image/png": "[encoded data removed]",
      "text/plain": [
       "<Figure size 432x288 with 16 Axes>"
      ]
     },
     "metadata": {},
     "output_type": "display_data"
    }
   ],
   "source": [
    "# conv-net layer 1\n",
    "plot_conv_layer(layer=layer_conv1, image=image1)"
   ]
  },
  {
   "cell_type": "code",
   "execution_count": 106,
   "metadata": {},
   "outputs": [
    {
     "data": {
      "image/png": "[encoded data removed]",
      "text/plain": [
       "<Figure size 432x288 with 36 Axes>"
      ]
     },
     "metadata": {},
     "output_type": "display_data"
    }
   ],
   "source": [
    "# conv-net layer2 weights\n",
    "plot_conv_weights(weights=weights_conv2)"
   ]
  },
  {
   "cell_type": "code",
   "execution_count": 107,
   "metadata": {},
   "outputs": [
    {
     "data": {
      "image/png": "[encoded data removed]",
      "text/plain": [
       "<Figure size 432x288 with 36 Axes>"
      ]
     },
     "metadata": {},
     "output_type": "display_data"
    }
   ],
   "source": [
    "# conv-net layer 2\n",
    "plot_conv_layer(layer=layer_conv2, image=image1)"
   ]
  },
  {
   "cell_type": "code",
   "execution_count": 135,
   "metadata": {},
   "outputs": [
    {
     "data": {
      "image/png": "[encoded data removed]",
      "text/plain": [
       "<Figure size 1080x1080 with 10 Axes>"
      ]
     },
     "metadata": {},
     "output_type": "display_data"
    }
   ],
   "source": [
    "# getting the first ten values\n",
    "images = data.test.images[0:10]\n",
    "\n",
    "# getting the true classes\n",
    "cls_true = data.test.cls[0:10]\n",
    "\n",
    "# getting the predicted classes)\n",
    "labels = data.test.labels[0:10]\n",
    "prediction = session.run(y_pred_cls,feed_dict = {x:images,y_true:labels})\n",
    "# plot the images\n",
    "plot_img(images=images, cls_label=cls_true, cls_pred=prediction)"
   ]
  },
  {
   "cell_type": "code",
   "execution_count": null,
   "metadata": {},
   "outputs": [],
   "source": []
  }
 ],
 "metadata": {
  "kernelspec": {
   "display_name": "Python 3",
   "language": "python",
   "name": "python3"
  },
  "language_info": {
   "codemirror_mode": {
    "name": "ipython",
    "version": 3
   },
   "file_extension": ".py",
   "mimetype": "text/x-python",
   "name": "python",
   "nbconvert_exporter": "python",
   "pygments_lexer": "ipython3",
   "version": "3.6.5"
  }
 },
 "nbformat": 4,
 "nbformat_minor": 2
}
