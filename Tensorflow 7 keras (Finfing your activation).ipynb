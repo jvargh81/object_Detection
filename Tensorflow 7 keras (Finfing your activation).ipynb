{
 "cells": [
  {
   "cell_type": "code",
   "execution_count": 50,
   "metadata": {},
   "outputs": [],
   "source": [
    "import tensorflow as tf\n",
    "from keras.models import Sequential\n",
    "from keras.layers import Dense\n",
    "from keras.utils import to_categorical\n",
    "from keras.callbacks import Callback\n",
    "from keras.datasets import mnist\n",
    "import numpy as np\n",
    "import keras\n",
    "\n",
    "import matplotlib.pyplot as plt\n",
    "%matplotlib inline"
   ]
  },
  {
   "cell_type": "code",
   "execution_count": 51,
   "metadata": {},
   "outputs": [],
   "source": [
    "(x_train,y_train),(x_test,y_test) = mnist.load_data()"
   ]
  },
  {
   "cell_type": "code",
   "execution_count": 52,
   "metadata": {},
   "outputs": [],
   "source": [
    "# standardizing the data\n",
    "X_train = x_train.astype('float32')/255\n",
    "X_test = x_test.astype('float32')/255"
   ]
  },
  {
   "cell_type": "code",
   "execution_count": 53,
   "metadata": {},
   "outputs": [],
   "source": [
    "# transforming to cateorical variables using one hot encoding\n",
    "Y_train = to_categorical(y_train,10)\n",
    "Y_test = to_categorical(y_test,10)"
   ]
  },
  {
   "cell_type": "code",
   "execution_count": 54,
   "metadata": {},
   "outputs": [],
   "source": [
    "# flatten the data\n",
    "X_train = np.reshape(X_train,(60000,784))\n",
    "X_test = np.reshape(X_test,(10000,784))"
   ]
  },
  {
   "cell_type": "code",
   "execution_count": 55,
   "metadata": {},
   "outputs": [],
   "source": [
    "#sigmoid activation function\n",
    "nn_sigmoid = Sequential()\n",
    "nn_sigmoid.add(Dense(700,input_dim=784,activation='sigmoid'))\n",
    "nn_sigmoid.add(Dense(700,activation='sigmoid'))\n",
    "nn_sigmoid.add(Dense(700,activation='sigmoid'))\n",
    "nn_sigmoid.add(Dense(700,activation='sigmoid'))\n",
    "nn_sigmoid.add(Dense(700,activation='sigmoid'))\n",
    "nn_sigmoid.add(Dense(350,activation='sigmoid'))\n",
    "nn_sigmoid.add(Dense(100,activation='sigmoid'))\n",
    "nn_sigmoid.add(Dense(10,activation='softmax')) # 10 neurons because 10 classes."
   ]
  },
  {
   "cell_type": "code",
   "execution_count": 56,
   "metadata": {},
   "outputs": [],
   "source": [
    "# compiling using sgd \n",
    "nn_sigmoid.compile(loss='categorical_crossentropy',optimizer='sgd',metrics=['accuracy']) "
   ]
  },
  {
   "cell_type": "code",
   "execution_count": 57,
   "metadata": {},
   "outputs": [],
   "source": [
    "#relu activation function\n",
    "nn_relu = Sequential()\n",
    "nn_relu.add(Dense(700,input_dim=784,activation='relu'))\n",
    "nn_relu.add(Dense(700,activation='relu'))\n",
    "nn_relu.add(Dense(700,activation='relu'))\n",
    "nn_relu.add(Dense(700,activation='relu'))\n",
    "nn_relu.add(Dense(700,activation='relu'))\n",
    "nn_relu.add(Dense(350,activation='relu'))\n",
    "nn_relu.add(Dense(100,activation='relu'))\n",
    "nn_relu.add(Dense(10,activation='softmax')) # 10 neurons because 10 classes."
   ]
  },
  {
   "cell_type": "code",
   "execution_count": 58,
   "metadata": {},
   "outputs": [],
   "source": [
    "nn_relu.compile(loss='categorical_crossentropy',optimizer='sgd',metrics=['accuracy'])"
   ]
  },
  {
   "cell_type": "code",
   "execution_count": 59,
   "metadata": {},
   "outputs": [],
   "source": [
    "#elu activation function\n",
    "nn_elu = Sequential()\n",
    "nn_elu.add(Dense(700,input_dim=784,activation='elu'))\n",
    "nn_elu.add(Dense(700,activation='elu'))\n",
    "nn_elu.add(Dense(700,activation='elu'))\n",
    "nn_elu.add(Dense(700,activation='elu'))\n",
    "nn_elu.add(Dense(700,activation='elu'))\n",
    "nn_elu.add(Dense(350,activation='elu'))\n",
    "nn_elu.add(Dense(100,activation='elu'))\n",
    "nn_elu.add(Dense(10,activation='softmax')) # 10 neurons because 10 classes."
   ]
  },
  {
   "cell_type": "code",
   "execution_count": 60,
   "metadata": {},
   "outputs": [],
   "source": [
    "nn_elu.compile(loss='categorical_crossentropy',optimizer='sgd',metrics=['accuracy'])"
   ]
  },
  {
   "cell_type": "code",
   "execution_count": 61,
   "metadata": {},
   "outputs": [],
   "source": [
    "class history_loss(keras.callbacks.Callback):\n",
    "    \n",
    "     def on_train_begin(self, logs={}):\n",
    "        self.losses = []\n",
    "    \n",
    "     def on_batch_end(self, batch, logs={}):\n",
    "        self.losses.append(logs.get('loss'))"
   ]
  },
  {
   "cell_type": "code",
   "execution_count": 62,
   "metadata": {},
   "outputs": [],
   "source": [
    "#hyper-parameters\n",
    "n_epochs = 20\n",
    "batch_size = 256\n",
    "validation_split = 0.2 # 80% training and 20% testing data"
   ]
  },
  {
   "cell_type": "code",
   "execution_count": null,
   "metadata": {},
   "outputs": [
    {
     "name": "stdout",
     "output_type": "stream",
     "text": [
      "Train on 48000 samples, validate on 12000 samples\n",
      "Epoch 1/20\n",
      " - 17s - loss: 2.3183 - acc: 0.1102 - val_loss: 2.3022 - val_acc: 0.1060\n",
      "Epoch 2/20\n",
      " - 16s - loss: 2.3013 - acc: 0.1140 - val_loss: 2.3025 - val_acc: 0.1060\n",
      "Epoch 3/20\n",
      " - 15s - loss: 2.3014 - acc: 0.1140 - val_loss: 2.3022 - val_acc: 0.1060\n",
      "Epoch 4/20\n",
      " - 16s - loss: 2.3015 - acc: 0.1140 - val_loss: 2.3021 - val_acc: 0.1060\n",
      "Epoch 5/20\n",
      " - 14s - loss: 2.3013 - acc: 0.1140 - val_loss: 2.3019 - val_acc: 0.1060\n",
      "Epoch 6/20\n",
      " - 15s - loss: 2.3014 - acc: 0.1140 - val_loss: 2.3024 - val_acc: 0.1060\n",
      "Epoch 7/20\n",
      " - 14s - loss: 2.3013 - acc: 0.1140 - val_loss: 2.3022 - val_acc: 0.1060\n",
      "Epoch 8/20\n"
     ]
    }
   ],
   "source": [
    "history_sigmoid = history_loss()\n",
    "nn_sigmoid.fit(X_train,Y_train,epochs=n_epochs,batch_size=batch_size,callbacks=[history_sigmoid],validation_split=validation_split,verbose=2)"
   ]
  },
  {
   "cell_type": "code",
   "execution_count": null,
   "metadata": {
    "scrolled": true
   },
   "outputs": [],
   "source": [
    "history_relu = history_loss()\n",
    "nn_relu.fit(X_train,Y_train,epochs=n_epochs,batch_size=batch_size,callbacks=[history_relu],validation_split=validation_split,verbose=2)"
   ]
  },
  {
   "cell_type": "code",
   "execution_count": null,
   "metadata": {},
   "outputs": [],
   "source": [
    "history_elu = history_loss()\n",
    "nn_elu.fit(X_train,Y_train,epochs=n_epochs,batch_size=batch_size,callbacks=[history_elu],validation_split=validation_split,verbose=2)"
   ]
  },
  {
   "cell_type": "code",
   "execution_count": null,
   "metadata": {},
   "outputs": [],
   "source": [
    "# plot the losses of each activation function\n",
    "plt.plot(np.arange(len(history_sigmoid.losses)),history_sigmoid.losses,label='sigmoid')\n",
    "plt.plot(np.arange(len(history_relu.losses)),history_relu.losses,label='relu')\n",
    "plt.plot(np.arange(len(history_elu.losses)),history_elu.losses,label='elu')\n",
    "plt.title('Losses of different activation function')\n",
    "plt.xlabel('number of batches')\n",
    "plt.legend(loc='best')\n",
    "plt.show()"
   ]
  },
  {
   "cell_type": "code",
   "execution_count": null,
   "metadata": {},
   "outputs": [],
   "source": []
  }
 ],
 "metadata": {
  "kernelspec": {
   "display_name": "Python 3",
   "language": "python",
   "name": "python3"
  },
  "language_info": {
   "codemirror_mode": {
    "name": "ipython",
    "version": 3
   },
   "file_extension": ".py",
   "mimetype": "text/x-python",
   "name": "python",
   "nbconvert_exporter": "python",
   "pygments_lexer": "ipython3",
   "version": "3.6.5"
  }
 },
 "nbformat": 4,
 "nbformat_minor": 2
}
