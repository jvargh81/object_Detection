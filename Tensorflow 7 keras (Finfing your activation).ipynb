{
 "cells": [
  {
   "cell_type": "code",
   "execution_count": 50,
   "metadata": {},
   "outputs": [],
   "source": [
    "import tensorflow as tf\n",
    "from keras.models import Sequential\n",
    "from keras.layers import Dense\n",
    "from keras.utils import to_categorical\n",
    "from keras.callbacks import Callback\n",
    "from keras.datasets import mnist\n",
    "import numpy as np\n",
    "import keras\n",
    "\n",
    "import matplotlib.pyplot as plt\n",
    "%matplotlib inline"
   ]
  },
  {
   "cell_type": "code",
   "execution_count": 51,
   "metadata": {},
   "outputs": [],
   "source": [
    "(x_train,y_train),(x_test,y_test) = mnist.load_data()"
   ]
  },
  {
   "cell_type": "code",
   "execution_count": 52,
   "metadata": {},
   "outputs": [],
   "source": [
    "# standardizing the data\n",
    "X_train = x_train.astype('float32')/255\n",
    "X_test = x_test.astype('float32')/255"
   ]
  },
  {
   "cell_type": "code",
   "execution_count": 53,
   "metadata": {},
   "outputs": [],
   "source": [
    "# transforming to cateorical variables using one hot encoding\n",
    "Y_train = to_categorical(y_train,10)\n",
    "Y_test = to_categorical(y_test,10)"
   ]
  },
  {
   "cell_type": "code",
   "execution_count": 54,
   "metadata": {},
   "outputs": [],
   "source": [
    "# flatten the data\n",
    "X_train = np.reshape(X_train,(60000,784))\n",
    "X_test = np.reshape(X_test,(10000,784))"
   ]
  },
  {
   "cell_type": "code",
   "execution_count": 55,
   "metadata": {},
   "outputs": [],
   "source": [
    "#sigmoid activation function\n",
    "nn_sigmoid = Sequential()\n",
    "nn_sigmoid.add(Dense(700,input_dim=784,activation='sigmoid'))\n",
    "nn_sigmoid.add(Dense(700,activation='sigmoid'))\n",
    "nn_sigmoid.add(Dense(700,activation='sigmoid'))\n",
    "nn_sigmoid.add(Dense(700,activation='sigmoid'))\n",
    "nn_sigmoid.add(Dense(700,activation='sigmoid'))\n",
    "nn_sigmoid.add(Dense(350,activation='sigmoid'))\n",
    "nn_sigmoid.add(Dense(100,activation='sigmoid'))\n",
    "nn_sigmoid.add(Dense(10,activation='softmax')) # 10 neurons because 10 classes."
   ]
  },
  {
   "cell_type": "code",
   "execution_count": 56,
   "metadata": {},
   "outputs": [],
   "source": [
    "# compiling using sgd \n",
    "nn_sigmoid.compile(loss='categorical_crossentropy',optimizer='sgd',metrics=['accuracy']) "
   ]
  },
  {
   "cell_type": "code",
   "execution_count": 57,
   "metadata": {},
   "outputs": [],
   "source": [
    "#relu activation function\n",
    "nn_relu = Sequential()\n",
    "nn_relu.add(Dense(700,input_dim=784,activation='relu'))\n",
    "nn_relu.add(Dense(700,activation='relu'))\n",
    "nn_relu.add(Dense(700,activation='relu'))\n",
    "nn_relu.add(Dense(700,activation='relu'))\n",
    "nn_relu.add(Dense(700,activation='relu'))\n",
    "nn_relu.add(Dense(350,activation='relu'))\n",
    "nn_relu.add(Dense(100,activation='relu'))\n",
    "nn_relu.add(Dense(10,activation='softmax')) # 10 neurons because 10 classes."
   ]
  },
  {
   "cell_type": "code",
   "execution_count": 58,
   "metadata": {},
   "outputs": [],
   "source": [
    "nn_relu.compile(loss='categorical_crossentropy',optimizer='sgd',metrics=['accuracy'])"
   ]
  },
  {
   "cell_type": "code",
   "execution_count": 59,
   "metadata": {},
   "outputs": [],
   "source": [
    "#elu activation function\n",
    "nn_elu = Sequential()\n",
    "nn_elu.add(Dense(700,input_dim=784,activation='elu'))\n",
    "nn_elu.add(Dense(700,activation='elu'))\n",
    "nn_elu.add(Dense(700,activation='elu'))\n",
    "nn_elu.add(Dense(700,activation='elu'))\n",
    "nn_elu.add(Dense(700,activation='elu'))\n",
    "nn_elu.add(Dense(350,activation='elu'))\n",
    "nn_elu.add(Dense(100,activation='elu'))\n",
    "nn_elu.add(Dense(10,activation='softmax')) # 10 neurons because 10 classes."
   ]
  },
  {
   "cell_type": "code",
   "execution_count": 60,
   "metadata": {},
   "outputs": [],
   "source": [
    "nn_elu.compile(loss='categorical_crossentropy',optimizer='sgd',metrics=['accuracy'])"
   ]
  },
  {
   "cell_type": "code",
   "execution_count": 61,
   "metadata": {},
   "outputs": [],
   "source": [
    "class history_loss(keras.callbacks.Callback):\n",
    "    \n",
    "     def on_train_begin(self, logs={}):\n",
    "        self.losses = []\n",
    "    \n",
    "     def on_batch_end(self, batch, logs={}):\n",
    "        self.losses.append(logs.get('loss'))"
   ]
  },
  {
   "cell_type": "code",
   "execution_count": 62,
   "metadata": {},
   "outputs": [],
   "source": [
    "#hyper-parameters\n",
    "n_epochs = 20\n",
    "batch_size = 256\n",
    "validation_split = 0.2 # 80% training and 20% testing data"
   ]
  },
  {
   "cell_type": "code",
   "execution_count": 63,
   "metadata": {},
   "outputs": [
    {
     "name": "stdout",
     "output_type": "stream",
     "text": [
      "Train on 48000 samples, validate on 12000 samples\n",
      "Epoch 1/20\n",
      " - 17s - loss: 2.3183 - acc: 0.1102 - val_loss: 2.3022 - val_acc: 0.1060\n",
      "Epoch 2/20\n",
      " - 16s - loss: 2.3013 - acc: 0.1140 - val_loss: 2.3025 - val_acc: 0.1060\n",
      "Epoch 3/20\n",
      " - 15s - loss: 2.3014 - acc: 0.1140 - val_loss: 2.3022 - val_acc: 0.1060\n",
      "Epoch 4/20\n",
      " - 16s - loss: 2.3015 - acc: 0.1140 - val_loss: 2.3021 - val_acc: 0.1060\n",
      "Epoch 5/20\n",
      " - 14s - loss: 2.3013 - acc: 0.1140 - val_loss: 2.3019 - val_acc: 0.1060\n",
      "Epoch 6/20\n",
      " - 15s - loss: 2.3014 - acc: 0.1140 - val_loss: 2.3024 - val_acc: 0.1060\n",
      "Epoch 7/20\n",
      " - 14s - loss: 2.3013 - acc: 0.1140 - val_loss: 2.3022 - val_acc: 0.1060\n",
      "Epoch 8/20\n",
      " - 14s - loss: 2.3014 - acc: 0.1140 - val_loss: 2.3027 - val_acc: 0.1060\n",
      "Epoch 9/20\n",
      " - 14s - loss: 2.3013 - acc: 0.1140 - val_loss: 2.3025 - val_acc: 0.1060\n",
      "Epoch 10/20\n",
      " - 14s - loss: 2.3014 - acc: 0.1140 - val_loss: 2.3018 - val_acc: 0.1060\n",
      "Epoch 11/20\n",
      " - 15s - loss: 2.3013 - acc: 0.1140 - val_loss: 2.3024 - val_acc: 0.1060\n",
      "Epoch 12/20\n",
      " - 15s - loss: 2.3014 - acc: 0.1140 - val_loss: 2.3024 - val_acc: 0.1060\n",
      "Epoch 13/20\n",
      " - 14s - loss: 2.3013 - acc: 0.1140 - val_loss: 2.3025 - val_acc: 0.1060\n",
      "Epoch 14/20\n",
      " - 14s - loss: 2.3013 - acc: 0.1140 - val_loss: 2.3025 - val_acc: 0.1060\n",
      "Epoch 15/20\n",
      " - 14s - loss: 2.3014 - acc: 0.1140 - val_loss: 2.3025 - val_acc: 0.1060\n",
      "Epoch 16/20\n",
      " - 14s - loss: 2.3013 - acc: 0.1140 - val_loss: 2.3024 - val_acc: 0.1060\n",
      "Epoch 17/20\n",
      " - 14s - loss: 2.3013 - acc: 0.1138 - val_loss: 2.3028 - val_acc: 0.1060\n",
      "Epoch 18/20\n",
      " - 14s - loss: 2.3014 - acc: 0.1140 - val_loss: 2.3020 - val_acc: 0.1060\n",
      "Epoch 19/20\n",
      " - 14s - loss: 2.3013 - acc: 0.1140 - val_loss: 2.3024 - val_acc: 0.1060\n",
      "Epoch 20/20\n",
      " - 14s - loss: 2.3013 - acc: 0.1140 - val_loss: 2.3019 - val_acc: 0.1060\n"
     ]
    },
    {
     "data": {
      "text/plain": [
       "<keras.callbacks.History at 0x7f8f949537f0>"
      ]
     },
     "execution_count": 63,
     "metadata": {},
     "output_type": "execute_result"
    }
   ],
   "source": [
    "history_sigmoid = history_loss()\n",
    "nn_sigmoid.fit(X_train,Y_train,epochs=n_epochs,batch_size=batch_size,callbacks=[history_sigmoid],validation_split=validation_split,verbose=2)"
   ]
  },
  {
   "cell_type": "code",
   "execution_count": 64,
   "metadata": {
    "scrolled": true
   },
   "outputs": [
    {
     "name": "stdout",
     "output_type": "stream",
     "text": [
      "Train on 48000 samples, validate on 12000 samples\n",
      "Epoch 1/20\n",
      " - 20s - loss: 2.2082 - acc: 0.3468 - val_loss: 2.0119 - val_acc: 0.6155\n",
      "Epoch 2/20\n",
      " - 22s - loss: 1.3361 - acc: 0.7063 - val_loss: 0.6893 - val_acc: 0.8193\n",
      "Epoch 3/20\n",
      " - 19s - loss: 0.5661 - acc: 0.8353 - val_loss: 0.4566 - val_acc: 0.8657\n",
      "Epoch 4/20\n",
      " - 20s - loss: 0.4197 - acc: 0.8759 - val_loss: 0.3536 - val_acc: 0.8972\n",
      "Epoch 5/20\n",
      " - 17s - loss: 0.3510 - acc: 0.8980 - val_loss: 0.2991 - val_acc: 0.9106\n",
      "Epoch 6/20\n",
      " - 17s - loss: 0.3050 - acc: 0.9118 - val_loss: 0.2853 - val_acc: 0.9150\n",
      "Epoch 7/20\n",
      " - 18s - loss: 0.2755 - acc: 0.9201 - val_loss: 0.2530 - val_acc: 0.9275\n",
      "Epoch 8/20\n",
      " - 18s - loss: 0.2510 - acc: 0.9271 - val_loss: 0.2358 - val_acc: 0.9326\n",
      "Epoch 9/20\n",
      " - 17s - loss: 0.2313 - acc: 0.9332 - val_loss: 0.2188 - val_acc: 0.9373\n",
      "Epoch 10/20\n",
      " - 17s - loss: 0.2134 - acc: 0.9382 - val_loss: 0.2403 - val_acc: 0.9267\n",
      "Epoch 11/20\n",
      " - 17s - loss: 0.2007 - acc: 0.9417 - val_loss: 0.1867 - val_acc: 0.9490\n",
      "Epoch 12/20\n",
      " - 17s - loss: 0.1862 - acc: 0.9448 - val_loss: 0.1772 - val_acc: 0.9509\n",
      "Epoch 13/20\n",
      " - 18s - loss: 0.1775 - acc: 0.9480 - val_loss: 0.1686 - val_acc: 0.9509\n",
      "Epoch 14/20\n",
      " - 20s - loss: 0.1640 - acc: 0.9517 - val_loss: 0.1695 - val_acc: 0.9515\n",
      "Epoch 15/20\n",
      " - 22s - loss: 0.1544 - acc: 0.9551 - val_loss: 0.1593 - val_acc: 0.9556\n",
      "Epoch 16/20\n",
      " - 23s - loss: 0.1466 - acc: 0.9572 - val_loss: 0.1564 - val_acc: 0.9548\n",
      "Epoch 17/20\n",
      " - 17s - loss: 0.1393 - acc: 0.9591 - val_loss: 0.1450 - val_acc: 0.9592\n",
      "Epoch 18/20\n",
      " - 17s - loss: 0.1326 - acc: 0.9608 - val_loss: 0.1377 - val_acc: 0.9623\n",
      "Epoch 19/20\n",
      " - 17s - loss: 0.1265 - acc: 0.9624 - val_loss: 0.2288 - val_acc: 0.9288\n",
      "Epoch 20/20\n",
      " - 17s - loss: 0.1221 - acc: 0.9645 - val_loss: 0.1422 - val_acc: 0.9595\n"
     ]
    },
    {
     "data": {
      "text/plain": [
       "<keras.callbacks.History at 0x7f8f94464278>"
      ]
     },
     "execution_count": 64,
     "metadata": {},
     "output_type": "execute_result"
    }
   ],
   "source": [
    "history_relu = history_loss()\n",
    "nn_relu.fit(X_train,Y_train,epochs=n_epochs,batch_size=batch_size,callbacks=[history_relu],validation_split=validation_split,verbose=2)"
   ]
  },
  {
   "cell_type": "code",
   "execution_count": 65,
   "metadata": {},
   "outputs": [
    {
     "name": "stdout",
     "output_type": "stream",
     "text": [
      "Train on 48000 samples, validate on 12000 samples\n",
      "Epoch 1/20\n",
      " - 15s - loss: 0.8089 - acc: 0.7991 - val_loss: 0.4239 - val_acc: 0.8834\n",
      "Epoch 2/20\n",
      " - 14s - loss: 0.3942 - acc: 0.8877 - val_loss: 0.3329 - val_acc: 0.9050\n",
      "Epoch 3/20\n",
      " - 14s - loss: 0.3319 - acc: 0.9034 - val_loss: 0.2983 - val_acc: 0.9132\n",
      "Epoch 4/20\n",
      " - 14s - loss: 0.3003 - acc: 0.9120 - val_loss: 0.2776 - val_acc: 0.9195\n",
      "Epoch 5/20\n",
      " - 14s - loss: 0.2801 - acc: 0.9177 - val_loss: 0.2619 - val_acc: 0.9254\n",
      "Epoch 6/20\n",
      " - 14s - loss: 0.2638 - acc: 0.9226 - val_loss: 0.2504 - val_acc: 0.9283\n",
      "Epoch 7/20\n",
      " - 14s - loss: 0.2499 - acc: 0.9265 - val_loss: 0.2392 - val_acc: 0.9322\n",
      "Epoch 8/20\n",
      " - 14s - loss: 0.2378 - acc: 0.9300 - val_loss: 0.2261 - val_acc: 0.9368\n",
      "Epoch 9/20\n",
      " - 14s - loss: 0.2264 - acc: 0.9333 - val_loss: 0.2209 - val_acc: 0.9376\n",
      "Epoch 10/20\n",
      " - 14s - loss: 0.2161 - acc: 0.9368 - val_loss: 0.2107 - val_acc: 0.9422\n",
      "Epoch 11/20\n",
      " - 14s - loss: 0.2062 - acc: 0.9394 - val_loss: 0.2027 - val_acc: 0.9443\n",
      "Epoch 12/20\n",
      " - 14s - loss: 0.1971 - acc: 0.9431 - val_loss: 0.1979 - val_acc: 0.9451\n",
      "Epoch 13/20\n",
      " - 14s - loss: 0.1886 - acc: 0.9449 - val_loss: 0.1895 - val_acc: 0.9486\n",
      "Epoch 14/20\n",
      " - 14s - loss: 0.1805 - acc: 0.9469 - val_loss: 0.1850 - val_acc: 0.9490\n",
      "Epoch 15/20\n",
      " - 14s - loss: 0.1730 - acc: 0.9488 - val_loss: 0.1810 - val_acc: 0.9504\n",
      "Epoch 16/20\n",
      " - 14s - loss: 0.1664 - acc: 0.9505 - val_loss: 0.1725 - val_acc: 0.9534\n",
      "Epoch 17/20\n",
      " - 14s - loss: 0.1601 - acc: 0.9527 - val_loss: 0.1680 - val_acc: 0.9533\n",
      "Epoch 18/20\n",
      " - 14s - loss: 0.1536 - acc: 0.9540 - val_loss: 0.1639 - val_acc: 0.9547\n",
      "Epoch 19/20\n",
      " - 14s - loss: 0.1486 - acc: 0.9555 - val_loss: 0.1627 - val_acc: 0.9526\n",
      "Epoch 20/20\n",
      " - 14s - loss: 0.1433 - acc: 0.9573 - val_loss: 0.1564 - val_acc: 0.9562\n"
     ]
    },
    {
     "data": {
      "text/plain": [
       "<keras.callbacks.History at 0x7f8f944ad438>"
      ]
     },
     "execution_count": 65,
     "metadata": {},
     "output_type": "execute_result"
    }
   ],
   "source": [
    "history_elu = history_loss()\n",
    "nn_elu.fit(X_train,Y_train,epochs=n_epochs,batch_size=batch_size,callbacks=[history_elu],validation_split=validation_split,verbose=2)"
   ]
  },
  {
   "cell_type": "code",
   "execution_count": 66,
   "metadata": {
    "scrolled": true
   },
   "outputs": [
    {
     "data": {
      "image/png": "[encoded data removed]",
      "text/plain": [
       "<Figure size 432x288 with 1 Axes>"
      ]
     },
     "metadata": {},
     "output_type": "display_data"
    }
   ],
   "source": [
    "# plot the losses of each activation function\n",
    "plt.plot(np.arange(len(history_sigmoid.losses)),history_sigmoid.losses,label='sigmoid')\n",
    "plt.plot(np.arange(len(history_relu.losses)),history_relu.losses,label='relu')\n",
    "plt.plot(np.arange(len(history_elu.losses)),history_elu.losses,label='elu')\n",
    "plt.title('Losses of different activation function')\n",
    "plt.xlabel('number of batches')\n",
    "plt.legend(loc='best')\n",
    "plt.show()"
   ]
  },
  {
   "cell_type": "code",
   "execution_count": null,
   "metadata": {},
   "outputs": [],
   "source": [
    " "
   ]
  }
 ],
 "metadata": {
  "kernelspec": {
   "display_name": "Python 3",
   "language": "python",
   "name": "python3"
  },
  "language_info": {
   "codemirror_mode": {
    "name": "ipython",
    "version": 3
   },
   "file_extension": ".py",
   "mimetype": "text/x-python",
   "name": "python",
   "nbconvert_exporter": "python",
   "pygments_lexer": "ipython3",
   "version": "3.6.5"
  }
 },
 "nbformat": 4,
 "nbformat_minor": 2
}
